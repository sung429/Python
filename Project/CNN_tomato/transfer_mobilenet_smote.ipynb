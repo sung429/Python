{
 "cells": [
  {
   "cell_type": "code",
   "execution_count": null,
   "metadata": {},
   "outputs": [],
   "source": [
    "# !pip install imblearn"
   ]
  },
  {
   "cell_type": "code",
   "execution_count": 1,
   "metadata": {
    "colab": {
     "base_uri": "https://localhost:8080/",
     "height": 99
    },
    "colab_type": "code",
    "id": "EUhlAxLGezgk",
    "outputId": "019a1063-6e0f-4f17-fc40-8bb0819c1f48"
   },
   "outputs": [
    {
     "name": "stderr",
     "output_type": "stream",
     "text": [
      "Using TensorFlow backend.\n"
     ]
    }
   ],
   "source": [
    "import tensorflow as tf\n",
    "import tensorflow.keras.layers as Layers\n",
    "import tensorflow.keras.activations as Actications\n",
    "import tensorflow.keras.models as Models\n",
    "import tensorflow.keras.optimizers as Optimizer\n",
    "import tensorflow.keras.metrics as Metrics\n",
    "import tensorflow.keras.utils as Utils\n",
    "from tensorflow import keras\n",
    "import matplotlib.pyplot as plot\n",
    "import numpy as np\n",
    "from imblearn.over_sampling import BorderlineSMOTE"
   ]
  },
  {
   "cell_type": "code",
   "execution_count": 3,
   "metadata": {
    "colab": {},
    "colab_type": "code",
    "id": "Z3Ryd55gezgv"
   },
   "outputs": [],
   "source": [
    "np_Images = np.load('./dataset/Image_224.npy') #converting the list of images to numpy array.\n",
    "np_Labels = np.load('./dataset/Label_224.npy')"
   ]
  },
  {
   "cell_type": "code",
   "execution_count": null,
   "metadata": {},
   "outputs": [],
   "source": [
    "%reset"
   ]
  },
  {
   "cell_type": "code",
   "execution_count": 3,
   "metadata": {
    "colab": {
     "base_uri": "https://localhost:8080/",
     "height": 53
    },
    "colab_type": "code",
    "id": "I_SnPdLNezgx",
    "outputId": "9281c49c-c2e0-4f7c-d595-a35bc84d6fb6"
   },
   "outputs": [
    {
     "name": "stdout",
     "output_type": "stream",
     "text": [
      "Shape of Images: (16785, 224, 224, 3)\n",
      "Shape of Labels: (16785,)\n"
     ]
    }
   ],
   "source": [
    "print(\"Shape of Images:\",np_Images.shape)\n",
    "print(\"Shape of Labels:\",np_Labels.shape)"
   ]
  },
  {
   "cell_type": "code",
   "execution_count": 4,
   "metadata": {},
   "outputs": [
    {
     "data": {
      "text/plain": [
       "array([9955,  229,  766, 2061,  426, 3348])"
      ]
     },
     "execution_count": 4,
     "metadata": {},
     "output_type": "execute_result"
    }
   ],
   "source": [
    "np.bincount(np_Labels)"
   ]
  },
  {
   "cell_type": "code",
   "execution_count": 5,
   "metadata": {},
   "outputs": [],
   "source": [
    "from sklearn.model_selection import train_test_split"
   ]
  },
  {
   "cell_type": "code",
   "execution_count": 6,
   "metadata": {
    "colab": {
     "base_uri": "https://localhost:8080/",
     "height": 35
    },
    "colab_type": "code",
    "id": "tacXBg_rezgz",
    "outputId": "97048603-1a85-4654-a87f-edd70d498bf1"
   },
   "outputs": [
    {
     "data": {
      "text/plain": [
       "16785"
      ]
     },
     "execution_count": 6,
     "metadata": {},
     "output_type": "execute_result"
    }
   ],
   "source": [
    "len(np_Images)"
   ]
  },
  {
   "cell_type": "code",
   "execution_count": null,
   "metadata": {},
   "outputs": [],
   "source": [
    "X_train_tmp, X_test, y_train_tmp, y_test = train_test_split(np_Images, np_Labels, test_size=0.1, random_state=1, stratify=np_Labels)"
   ]
  },
  {
   "cell_type": "code",
   "execution_count": null,
   "metadata": {},
   "outputs": [],
   "source": [
    "X_train_tmp_1, X_val, y_train, y_val = train_test_split(X_train_tmp, y_train_tmp, test_size=0.11, random_state=1 ,stratify=y_train_tmp)"
   ]
  },
  {
   "cell_type": "code",
   "execution_count": null,
   "metadata": {},
   "outputs": [],
   "source": [
    "np.bincount(y_train)"
   ]
  },
  {
   "cell_type": "code",
   "execution_count": null,
   "metadata": {},
   "outputs": [],
   "source": [
    "X_train_smote = X_train_tmp_1.reshape((X_train_tmp_1.shape[0], X_train_tmp_1.shape[1] * X_train_tmp_1.shape[2] * X_train_tmp_1.shape[3])).astype(np.float32)"
   ]
  },
  {
   "cell_type": "code",
   "execution_count": null,
   "metadata": {},
   "outputs": [],
   "source": [
    "smote = BorderlineSMOTE(n_jobs=8)\n",
    "X_train, y_train = smote.fit_resample(X_train_smote, y_train)"
   ]
  },
  {
   "cell_type": "code",
   "execution_count": null,
   "metadata": {},
   "outputs": [],
   "source": [
    "len(X_train), len(y_train)"
   ]
  },
  {
   "cell_type": "code",
   "execution_count": null,
   "metadata": {},
   "outputs": [],
   "source": [
    "np.bincount(y_train)"
   ]
  },
  {
   "cell_type": "code",
   "execution_count": null,
   "metadata": {},
   "outputs": [],
   "source": [
    "X_train = X_train.reshape((-1, np_Images.shape[1], np_Images.shape[2], np_Images.shape[3])).astype(np.float32)"
   ]
  },
  {
   "cell_type": "code",
   "execution_count": null,
   "metadata": {},
   "outputs": [],
   "source": [
    "np.save('X_train.npy', X_train)\n",
    "np.save('y_train.npy', y_train)\n",
    "np.save('X_val.npy', X_val)\n",
    "np.save('y_val.npy', y_val)\n",
    "np.save('X_test.npy', X_test)\n",
    "np.save('y_test.npy', y_test)"
   ]
  },
  {
   "cell_type": "code",
   "execution_count": 2,
   "metadata": {},
   "outputs": [],
   "source": [
    "X_train = np.load('X_train.npy')\n",
    "y_train = np.load('y_train.npy')\n",
    "X_val = np.load('X_val.npy')\n",
    "y_val = np.load('y_val.npy')\n",
    "X_test = np.load('X_test.npy')\n",
    "y_test = np.load('y_test.npy')"
   ]
  },
  {
   "cell_type": "code",
   "execution_count": null,
   "metadata": {},
   "outputs": [],
   "source": [
    "plot.imshow(X_train[47837]/255)\n",
    "plot.show()"
   ]
  },
  {
   "cell_type": "code",
   "execution_count": null,
   "metadata": {},
   "outputs": [],
   "source": [
    "list_1 = []\n",
    "for idx, label in enumerate(y_train):\n",
    "    if label == 1:\n",
    "        list_1.append(idx)"
   ]
  },
  {
   "cell_type": "code",
   "execution_count": null,
   "metadata": {},
   "outputs": [],
   "source": [
    "image_list = list_1[7000:7052]\n",
    "plot.figure(figsize=(20,70))\n",
    "\n",
    "for idx, img in enumerate(image_list):\n",
    "    plot.subplot(13,4,idx+1)\n",
    "    plot.imshow(X_train[img]/255)\n",
    "    plot.title(idx+1)\n",
    "    plot.axis(\"off\")\n",
    "plot.show()"
   ]
  },
  {
   "cell_type": "code",
   "execution_count": null,
   "metadata": {},
   "outputs": [],
   "source": [
    "X_train.shape, y_train.shape"
   ]
  },
  {
   "cell_type": "code",
   "execution_count": null,
   "metadata": {},
   "outputs": [],
   "source": [
    "# Images = (Images / 127.5) -1"
   ]
  },
  {
   "cell_type": "code",
   "execution_count": null,
   "metadata": {},
   "outputs": [],
   "source": [
    "np.bincount(y_train)"
   ]
  },
  {
   "cell_type": "code",
   "execution_count": null,
   "metadata": {},
   "outputs": [],
   "source": [
    "names =  {0: 'Tomato_H', 1: 'Tomato_D01', 2: 'Tomato_D04', 3: 'Tomato_D05',\n",
    "              4: 'Tomato_D08', 5: 'Tomato_P03'}"
   ]
  },
  {
   "cell_type": "code",
   "execution_count": null,
   "metadata": {},
   "outputs": [],
   "source": [
    "print(X_train.shape,X_test.shape,y_train.shape,y_test.shape)\n",
    "np.bincount(y_train),np.bincount(y_test)"
   ]
  },
  {
   "cell_type": "code",
   "execution_count": 3,
   "metadata": {},
   "outputs": [
    {
     "name": "stdout",
     "output_type": "stream",
     "text": [
      "WARNING:tensorflow:From /opt/anaconda3/lib/python3.7/site-packages/tensorflow_core/python/ops/resource_variable_ops.py:1630: calling BaseResourceVariable.__init__ (from tensorflow.python.ops.resource_variable_ops) with constraint is deprecated and will be removed in a future version.\n",
      "Instructions for updating:\n",
      "If using Keras pass *_constraint arguments to layers.\n"
     ]
    }
   ],
   "source": [
    "IMG_SHAPE = X_train[0].shape\n",
    "\n",
    "base_model = tf.keras.applications.mobilenet_v2.MobileNetV2(input_shape=IMG_SHAPE,\n",
    "                                            include_top=False,   \n",
    "                                            weights='imagenet')"
   ]
  },
  {
   "cell_type": "code",
   "execution_count": 4,
   "metadata": {},
   "outputs": [
    {
     "data": {
      "text/plain": [
       "<tf.Tensor 'Const:0' shape=(4, 224, 224, 3) dtype=float32>"
      ]
     },
     "execution_count": 4,
     "metadata": {},
     "output_type": "execute_result"
    }
   ],
   "source": [
    "test_batch = tf.convert_to_tensor(X_train[0:4])\n",
    "test_batch"
   ]
  },
  {
   "cell_type": "code",
   "execution_count": 5,
   "metadata": {},
   "outputs": [
    {
     "name": "stdout",
     "output_type": "stream",
     "text": [
      "(4, 7, 7, 1280)\n"
     ]
    }
   ],
   "source": [
    "feature_batch = base_model(test_batch)\n",
    "print(feature_batch.shape)"
   ]
  },
  {
   "cell_type": "code",
   "execution_count": 6,
   "metadata": {},
   "outputs": [],
   "source": [
    "# base_model.trainable = False"
   ]
  },
  {
   "cell_type": "code",
   "execution_count": 7,
   "metadata": {},
   "outputs": [
    {
     "name": "stdout",
     "output_type": "stream",
     "text": [
      "Model: \"mobilenetv2_1.00_224\"\n",
      "__________________________________________________________________________________________________\n",
      "Layer (type)                    Output Shape         Param #     Connected to                     \n",
      "==================================================================================================\n",
      "input_1 (InputLayer)            [(None, 224, 224, 3) 0                                            \n",
      "__________________________________________________________________________________________________\n",
      "Conv1_pad (ZeroPadding2D)       (None, 225, 225, 3)  0           input_1[0][0]                    \n",
      "__________________________________________________________________________________________________\n",
      "Conv1 (Conv2D)                  (None, 112, 112, 32) 864         Conv1_pad[0][0]                  \n",
      "__________________________________________________________________________________________________\n",
      "bn_Conv1 (BatchNormalization)   (None, 112, 112, 32) 128         Conv1[0][0]                      \n",
      "__________________________________________________________________________________________________\n",
      "Conv1_relu (ReLU)               (None, 112, 112, 32) 0           bn_Conv1[0][0]                   \n",
      "__________________________________________________________________________________________________\n",
      "expanded_conv_depthwise (Depthw (None, 112, 112, 32) 288         Conv1_relu[0][0]                 \n",
      "__________________________________________________________________________________________________\n",
      "expanded_conv_depthwise_BN (Bat (None, 112, 112, 32) 128         expanded_conv_depthwise[0][0]    \n",
      "__________________________________________________________________________________________________\n",
      "expanded_conv_depthwise_relu (R (None, 112, 112, 32) 0           expanded_conv_depthwise_BN[0][0] \n",
      "__________________________________________________________________________________________________\n",
      "expanded_conv_project (Conv2D)  (None, 112, 112, 16) 512         expanded_conv_depthwise_relu[0][0\n",
      "__________________________________________________________________________________________________\n",
      "expanded_conv_project_BN (Batch (None, 112, 112, 16) 64          expanded_conv_project[0][0]      \n",
      "__________________________________________________________________________________________________\n",
      "block_1_expand (Conv2D)         (None, 112, 112, 96) 1536        expanded_conv_project_BN[0][0]   \n",
      "__________________________________________________________________________________________________\n",
      "block_1_expand_BN (BatchNormali (None, 112, 112, 96) 384         block_1_expand[0][0]             \n",
      "__________________________________________________________________________________________________\n",
      "block_1_expand_relu (ReLU)      (None, 112, 112, 96) 0           block_1_expand_BN[0][0]          \n",
      "__________________________________________________________________________________________________\n",
      "block_1_pad (ZeroPadding2D)     (None, 113, 113, 96) 0           block_1_expand_relu[0][0]        \n",
      "__________________________________________________________________________________________________\n",
      "block_1_depthwise (DepthwiseCon (None, 56, 56, 96)   864         block_1_pad[0][0]                \n",
      "__________________________________________________________________________________________________\n",
      "block_1_depthwise_BN (BatchNorm (None, 56, 56, 96)   384         block_1_depthwise[0][0]          \n",
      "__________________________________________________________________________________________________\n",
      "block_1_depthwise_relu (ReLU)   (None, 56, 56, 96)   0           block_1_depthwise_BN[0][0]       \n",
      "__________________________________________________________________________________________________\n",
      "block_1_project (Conv2D)        (None, 56, 56, 24)   2304        block_1_depthwise_relu[0][0]     \n",
      "__________________________________________________________________________________________________\n",
      "block_1_project_BN (BatchNormal (None, 56, 56, 24)   96          block_1_project[0][0]            \n",
      "__________________________________________________________________________________________________\n",
      "block_2_expand (Conv2D)         (None, 56, 56, 144)  3456        block_1_project_BN[0][0]         \n",
      "__________________________________________________________________________________________________\n",
      "block_2_expand_BN (BatchNormali (None, 56, 56, 144)  576         block_2_expand[0][0]             \n",
      "__________________________________________________________________________________________________\n",
      "block_2_expand_relu (ReLU)      (None, 56, 56, 144)  0           block_2_expand_BN[0][0]          \n",
      "__________________________________________________________________________________________________\n",
      "block_2_depthwise (DepthwiseCon (None, 56, 56, 144)  1296        block_2_expand_relu[0][0]        \n",
      "__________________________________________________________________________________________________\n",
      "block_2_depthwise_BN (BatchNorm (None, 56, 56, 144)  576         block_2_depthwise[0][0]          \n",
      "__________________________________________________________________________________________________\n",
      "block_2_depthwise_relu (ReLU)   (None, 56, 56, 144)  0           block_2_depthwise_BN[0][0]       \n",
      "__________________________________________________________________________________________________\n",
      "block_2_project (Conv2D)        (None, 56, 56, 24)   3456        block_2_depthwise_relu[0][0]     \n",
      "__________________________________________________________________________________________________\n",
      "block_2_project_BN (BatchNormal (None, 56, 56, 24)   96          block_2_project[0][0]            \n",
      "__________________________________________________________________________________________________\n",
      "block_2_add (Add)               (None, 56, 56, 24)   0           block_1_project_BN[0][0]         \n",
      "                                                                 block_2_project_BN[0][0]         \n",
      "__________________________________________________________________________________________________\n",
      "block_3_expand (Conv2D)         (None, 56, 56, 144)  3456        block_2_add[0][0]                \n",
      "__________________________________________________________________________________________________\n",
      "block_3_expand_BN (BatchNormali (None, 56, 56, 144)  576         block_3_expand[0][0]             \n",
      "__________________________________________________________________________________________________\n",
      "block_3_expand_relu (ReLU)      (None, 56, 56, 144)  0           block_3_expand_BN[0][0]          \n",
      "__________________________________________________________________________________________________\n",
      "block_3_pad (ZeroPadding2D)     (None, 57, 57, 144)  0           block_3_expand_relu[0][0]        \n",
      "__________________________________________________________________________________________________\n",
      "block_3_depthwise (DepthwiseCon (None, 28, 28, 144)  1296        block_3_pad[0][0]                \n",
      "__________________________________________________________________________________________________\n",
      "block_3_depthwise_BN (BatchNorm (None, 28, 28, 144)  576         block_3_depthwise[0][0]          \n",
      "__________________________________________________________________________________________________\n",
      "block_3_depthwise_relu (ReLU)   (None, 28, 28, 144)  0           block_3_depthwise_BN[0][0]       \n",
      "__________________________________________________________________________________________________\n",
      "block_3_project (Conv2D)        (None, 28, 28, 32)   4608        block_3_depthwise_relu[0][0]     \n",
      "__________________________________________________________________________________________________\n",
      "block_3_project_BN (BatchNormal (None, 28, 28, 32)   128         block_3_project[0][0]            \n",
      "__________________________________________________________________________________________________\n",
      "block_4_expand (Conv2D)         (None, 28, 28, 192)  6144        block_3_project_BN[0][0]         \n",
      "__________________________________________________________________________________________________\n",
      "block_4_expand_BN (BatchNormali (None, 28, 28, 192)  768         block_4_expand[0][0]             \n",
      "__________________________________________________________________________________________________\n",
      "block_4_expand_relu (ReLU)      (None, 28, 28, 192)  0           block_4_expand_BN[0][0]          \n",
      "__________________________________________________________________________________________________\n",
      "block_4_depthwise (DepthwiseCon (None, 28, 28, 192)  1728        block_4_expand_relu[0][0]        \n",
      "__________________________________________________________________________________________________\n",
      "block_4_depthwise_BN (BatchNorm (None, 28, 28, 192)  768         block_4_depthwise[0][0]          \n",
      "__________________________________________________________________________________________________\n",
      "block_4_depthwise_relu (ReLU)   (None, 28, 28, 192)  0           block_4_depthwise_BN[0][0]       \n",
      "__________________________________________________________________________________________________\n",
      "block_4_project (Conv2D)        (None, 28, 28, 32)   6144        block_4_depthwise_relu[0][0]     \n",
      "__________________________________________________________________________________________________\n",
      "block_4_project_BN (BatchNormal (None, 28, 28, 32)   128         block_4_project[0][0]            \n",
      "__________________________________________________________________________________________________\n",
      "block_4_add (Add)               (None, 28, 28, 32)   0           block_3_project_BN[0][0]         \n",
      "                                                                 block_4_project_BN[0][0]         \n",
      "__________________________________________________________________________________________________\n",
      "block_5_expand (Conv2D)         (None, 28, 28, 192)  6144        block_4_add[0][0]                \n",
      "__________________________________________________________________________________________________\n",
      "block_5_expand_BN (BatchNormali (None, 28, 28, 192)  768         block_5_expand[0][0]             \n",
      "__________________________________________________________________________________________________\n",
      "block_5_expand_relu (ReLU)      (None, 28, 28, 192)  0           block_5_expand_BN[0][0]          \n",
      "__________________________________________________________________________________________________\n",
      "block_5_depthwise (DepthwiseCon (None, 28, 28, 192)  1728        block_5_expand_relu[0][0]        \n",
      "__________________________________________________________________________________________________\n",
      "block_5_depthwise_BN (BatchNorm (None, 28, 28, 192)  768         block_5_depthwise[0][0]          \n",
      "__________________________________________________________________________________________________\n",
      "block_5_depthwise_relu (ReLU)   (None, 28, 28, 192)  0           block_5_depthwise_BN[0][0]       \n",
      "__________________________________________________________________________________________________\n",
      "block_5_project (Conv2D)        (None, 28, 28, 32)   6144        block_5_depthwise_relu[0][0]     \n",
      "__________________________________________________________________________________________________\n",
      "block_5_project_BN (BatchNormal (None, 28, 28, 32)   128         block_5_project[0][0]            \n",
      "__________________________________________________________________________________________________\n",
      "block_5_add (Add)               (None, 28, 28, 32)   0           block_4_add[0][0]                \n",
      "                                                                 block_5_project_BN[0][0]         \n",
      "__________________________________________________________________________________________________\n",
      "block_6_expand (Conv2D)         (None, 28, 28, 192)  6144        block_5_add[0][0]                \n",
      "__________________________________________________________________________________________________\n",
      "block_6_expand_BN (BatchNormali (None, 28, 28, 192)  768         block_6_expand[0][0]             \n",
      "__________________________________________________________________________________________________\n",
      "block_6_expand_relu (ReLU)      (None, 28, 28, 192)  0           block_6_expand_BN[0][0]          \n",
      "__________________________________________________________________________________________________\n",
      "block_6_pad (ZeroPadding2D)     (None, 29, 29, 192)  0           block_6_expand_relu[0][0]        \n",
      "__________________________________________________________________________________________________\n",
      "block_6_depthwise (DepthwiseCon (None, 14, 14, 192)  1728        block_6_pad[0][0]                \n",
      "__________________________________________________________________________________________________\n",
      "block_6_depthwise_BN (BatchNorm (None, 14, 14, 192)  768         block_6_depthwise[0][0]          \n",
      "__________________________________________________________________________________________________\n",
      "block_6_depthwise_relu (ReLU)   (None, 14, 14, 192)  0           block_6_depthwise_BN[0][0]       \n",
      "__________________________________________________________________________________________________\n",
      "block_6_project (Conv2D)        (None, 14, 14, 64)   12288       block_6_depthwise_relu[0][0]     \n",
      "__________________________________________________________________________________________________\n",
      "block_6_project_BN (BatchNormal (None, 14, 14, 64)   256         block_6_project[0][0]            \n",
      "__________________________________________________________________________________________________\n",
      "block_7_expand (Conv2D)         (None, 14, 14, 384)  24576       block_6_project_BN[0][0]         \n",
      "__________________________________________________________________________________________________\n",
      "block_7_expand_BN (BatchNormali (None, 14, 14, 384)  1536        block_7_expand[0][0]             \n",
      "__________________________________________________________________________________________________\n",
      "block_7_expand_relu (ReLU)      (None, 14, 14, 384)  0           block_7_expand_BN[0][0]          \n",
      "__________________________________________________________________________________________________\n",
      "block_7_depthwise (DepthwiseCon (None, 14, 14, 384)  3456        block_7_expand_relu[0][0]        \n",
      "__________________________________________________________________________________________________\n",
      "block_7_depthwise_BN (BatchNorm (None, 14, 14, 384)  1536        block_7_depthwise[0][0]          \n",
      "__________________________________________________________________________________________________\n",
      "block_7_depthwise_relu (ReLU)   (None, 14, 14, 384)  0           block_7_depthwise_BN[0][0]       \n",
      "__________________________________________________________________________________________________\n",
      "block_7_project (Conv2D)        (None, 14, 14, 64)   24576       block_7_depthwise_relu[0][0]     \n",
      "__________________________________________________________________________________________________\n",
      "block_7_project_BN (BatchNormal (None, 14, 14, 64)   256         block_7_project[0][0]            \n",
      "__________________________________________________________________________________________________\n",
      "block_7_add (Add)               (None, 14, 14, 64)   0           block_6_project_BN[0][0]         \n",
      "                                                                 block_7_project_BN[0][0]         \n",
      "__________________________________________________________________________________________________\n",
      "block_8_expand (Conv2D)         (None, 14, 14, 384)  24576       block_7_add[0][0]                \n",
      "__________________________________________________________________________________________________\n",
      "block_8_expand_BN (BatchNormali (None, 14, 14, 384)  1536        block_8_expand[0][0]             \n",
      "__________________________________________________________________________________________________\n",
      "block_8_expand_relu (ReLU)      (None, 14, 14, 384)  0           block_8_expand_BN[0][0]          \n",
      "__________________________________________________________________________________________________\n",
      "block_8_depthwise (DepthwiseCon (None, 14, 14, 384)  3456        block_8_expand_relu[0][0]        \n",
      "__________________________________________________________________________________________________\n",
      "block_8_depthwise_BN (BatchNorm (None, 14, 14, 384)  1536        block_8_depthwise[0][0]          \n",
      "__________________________________________________________________________________________________\n",
      "block_8_depthwise_relu (ReLU)   (None, 14, 14, 384)  0           block_8_depthwise_BN[0][0]       \n",
      "__________________________________________________________________________________________________\n",
      "block_8_project (Conv2D)        (None, 14, 14, 64)   24576       block_8_depthwise_relu[0][0]     \n",
      "__________________________________________________________________________________________________\n",
      "block_8_project_BN (BatchNormal (None, 14, 14, 64)   256         block_8_project[0][0]            \n",
      "__________________________________________________________________________________________________\n",
      "block_8_add (Add)               (None, 14, 14, 64)   0           block_7_add[0][0]                \n",
      "                                                                 block_8_project_BN[0][0]         \n",
      "__________________________________________________________________________________________________\n",
      "block_9_expand (Conv2D)         (None, 14, 14, 384)  24576       block_8_add[0][0]                \n",
      "__________________________________________________________________________________________________\n",
      "block_9_expand_BN (BatchNormali (None, 14, 14, 384)  1536        block_9_expand[0][0]             \n",
      "__________________________________________________________________________________________________\n",
      "block_9_expand_relu (ReLU)      (None, 14, 14, 384)  0           block_9_expand_BN[0][0]          \n",
      "__________________________________________________________________________________________________\n",
      "block_9_depthwise (DepthwiseCon (None, 14, 14, 384)  3456        block_9_expand_relu[0][0]        \n",
      "__________________________________________________________________________________________________\n",
      "block_9_depthwise_BN (BatchNorm (None, 14, 14, 384)  1536        block_9_depthwise[0][0]          \n",
      "__________________________________________________________________________________________________\n",
      "block_9_depthwise_relu (ReLU)   (None, 14, 14, 384)  0           block_9_depthwise_BN[0][0]       \n",
      "__________________________________________________________________________________________________\n",
      "block_9_project (Conv2D)        (None, 14, 14, 64)   24576       block_9_depthwise_relu[0][0]     \n",
      "__________________________________________________________________________________________________\n",
      "block_9_project_BN (BatchNormal (None, 14, 14, 64)   256         block_9_project[0][0]            \n",
      "__________________________________________________________________________________________________\n",
      "block_9_add (Add)               (None, 14, 14, 64)   0           block_8_add[0][0]                \n",
      "                                                                 block_9_project_BN[0][0]         \n",
      "__________________________________________________________________________________________________\n",
      "block_10_expand (Conv2D)        (None, 14, 14, 384)  24576       block_9_add[0][0]                \n",
      "__________________________________________________________________________________________________\n",
      "block_10_expand_BN (BatchNormal (None, 14, 14, 384)  1536        block_10_expand[0][0]            \n",
      "__________________________________________________________________________________________________\n",
      "block_10_expand_relu (ReLU)     (None, 14, 14, 384)  0           block_10_expand_BN[0][0]         \n",
      "__________________________________________________________________________________________________\n",
      "block_10_depthwise (DepthwiseCo (None, 14, 14, 384)  3456        block_10_expand_relu[0][0]       \n",
      "__________________________________________________________________________________________________\n",
      "block_10_depthwise_BN (BatchNor (None, 14, 14, 384)  1536        block_10_depthwise[0][0]         \n",
      "__________________________________________________________________________________________________\n",
      "block_10_depthwise_relu (ReLU)  (None, 14, 14, 384)  0           block_10_depthwise_BN[0][0]      \n",
      "__________________________________________________________________________________________________\n",
      "block_10_project (Conv2D)       (None, 14, 14, 96)   36864       block_10_depthwise_relu[0][0]    \n",
      "__________________________________________________________________________________________________\n",
      "block_10_project_BN (BatchNorma (None, 14, 14, 96)   384         block_10_project[0][0]           \n",
      "__________________________________________________________________________________________________\n",
      "block_11_expand (Conv2D)        (None, 14, 14, 576)  55296       block_10_project_BN[0][0]        \n",
      "__________________________________________________________________________________________________\n",
      "block_11_expand_BN (BatchNormal (None, 14, 14, 576)  2304        block_11_expand[0][0]            \n",
      "__________________________________________________________________________________________________\n",
      "block_11_expand_relu (ReLU)     (None, 14, 14, 576)  0           block_11_expand_BN[0][0]         \n",
      "__________________________________________________________________________________________________\n",
      "block_11_depthwise (DepthwiseCo (None, 14, 14, 576)  5184        block_11_expand_relu[0][0]       \n",
      "__________________________________________________________________________________________________\n",
      "block_11_depthwise_BN (BatchNor (None, 14, 14, 576)  2304        block_11_depthwise[0][0]         \n",
      "__________________________________________________________________________________________________\n",
      "block_11_depthwise_relu (ReLU)  (None, 14, 14, 576)  0           block_11_depthwise_BN[0][0]      \n",
      "__________________________________________________________________________________________________\n",
      "block_11_project (Conv2D)       (None, 14, 14, 96)   55296       block_11_depthwise_relu[0][0]    \n",
      "__________________________________________________________________________________________________\n",
      "block_11_project_BN (BatchNorma (None, 14, 14, 96)   384         block_11_project[0][0]           \n",
      "__________________________________________________________________________________________________\n",
      "block_11_add (Add)              (None, 14, 14, 96)   0           block_10_project_BN[0][0]        \n",
      "                                                                 block_11_project_BN[0][0]        \n",
      "__________________________________________________________________________________________________\n",
      "block_12_expand (Conv2D)        (None, 14, 14, 576)  55296       block_11_add[0][0]               \n",
      "__________________________________________________________________________________________________\n",
      "block_12_expand_BN (BatchNormal (None, 14, 14, 576)  2304        block_12_expand[0][0]            \n",
      "__________________________________________________________________________________________________\n",
      "block_12_expand_relu (ReLU)     (None, 14, 14, 576)  0           block_12_expand_BN[0][0]         \n",
      "__________________________________________________________________________________________________\n",
      "block_12_depthwise (DepthwiseCo (None, 14, 14, 576)  5184        block_12_expand_relu[0][0]       \n",
      "__________________________________________________________________________________________________\n",
      "block_12_depthwise_BN (BatchNor (None, 14, 14, 576)  2304        block_12_depthwise[0][0]         \n",
      "__________________________________________________________________________________________________\n",
      "block_12_depthwise_relu (ReLU)  (None, 14, 14, 576)  0           block_12_depthwise_BN[0][0]      \n",
      "__________________________________________________________________________________________________\n",
      "block_12_project (Conv2D)       (None, 14, 14, 96)   55296       block_12_depthwise_relu[0][0]    \n",
      "__________________________________________________________________________________________________\n",
      "block_12_project_BN (BatchNorma (None, 14, 14, 96)   384         block_12_project[0][0]           \n",
      "__________________________________________________________________________________________________\n",
      "block_12_add (Add)              (None, 14, 14, 96)   0           block_11_add[0][0]               \n",
      "                                                                 block_12_project_BN[0][0]        \n",
      "__________________________________________________________________________________________________\n",
      "block_13_expand (Conv2D)        (None, 14, 14, 576)  55296       block_12_add[0][0]               \n",
      "__________________________________________________________________________________________________\n",
      "block_13_expand_BN (BatchNormal (None, 14, 14, 576)  2304        block_13_expand[0][0]            \n",
      "__________________________________________________________________________________________________\n",
      "block_13_expand_relu (ReLU)     (None, 14, 14, 576)  0           block_13_expand_BN[0][0]         \n",
      "__________________________________________________________________________________________________\n",
      "block_13_pad (ZeroPadding2D)    (None, 15, 15, 576)  0           block_13_expand_relu[0][0]       \n",
      "__________________________________________________________________________________________________\n",
      "block_13_depthwise (DepthwiseCo (None, 7, 7, 576)    5184        block_13_pad[0][0]               \n",
      "__________________________________________________________________________________________________\n",
      "block_13_depthwise_BN (BatchNor (None, 7, 7, 576)    2304        block_13_depthwise[0][0]         \n",
      "__________________________________________________________________________________________________\n",
      "block_13_depthwise_relu (ReLU)  (None, 7, 7, 576)    0           block_13_depthwise_BN[0][0]      \n",
      "__________________________________________________________________________________________________\n",
      "block_13_project (Conv2D)       (None, 7, 7, 160)    92160       block_13_depthwise_relu[0][0]    \n",
      "__________________________________________________________________________________________________\n",
      "block_13_project_BN (BatchNorma (None, 7, 7, 160)    640         block_13_project[0][0]           \n",
      "__________________________________________________________________________________________________\n",
      "block_14_expand (Conv2D)        (None, 7, 7, 960)    153600      block_13_project_BN[0][0]        \n",
      "__________________________________________________________________________________________________\n",
      "block_14_expand_BN (BatchNormal (None, 7, 7, 960)    3840        block_14_expand[0][0]            \n",
      "__________________________________________________________________________________________________\n",
      "block_14_expand_relu (ReLU)     (None, 7, 7, 960)    0           block_14_expand_BN[0][0]         \n",
      "__________________________________________________________________________________________________\n",
      "block_14_depthwise (DepthwiseCo (None, 7, 7, 960)    8640        block_14_expand_relu[0][0]       \n",
      "__________________________________________________________________________________________________\n",
      "block_14_depthwise_BN (BatchNor (None, 7, 7, 960)    3840        block_14_depthwise[0][0]         \n",
      "__________________________________________________________________________________________________\n",
      "block_14_depthwise_relu (ReLU)  (None, 7, 7, 960)    0           block_14_depthwise_BN[0][0]      \n",
      "__________________________________________________________________________________________________\n",
      "block_14_project (Conv2D)       (None, 7, 7, 160)    153600      block_14_depthwise_relu[0][0]    \n",
      "__________________________________________________________________________________________________\n",
      "block_14_project_BN (BatchNorma (None, 7, 7, 160)    640         block_14_project[0][0]           \n",
      "__________________________________________________________________________________________________\n",
      "block_14_add (Add)              (None, 7, 7, 160)    0           block_13_project_BN[0][0]        \n",
      "                                                                 block_14_project_BN[0][0]        \n",
      "__________________________________________________________________________________________________\n",
      "block_15_expand (Conv2D)        (None, 7, 7, 960)    153600      block_14_add[0][0]               \n",
      "__________________________________________________________________________________________________\n",
      "block_15_expand_BN (BatchNormal (None, 7, 7, 960)    3840        block_15_expand[0][0]            \n",
      "__________________________________________________________________________________________________\n",
      "block_15_expand_relu (ReLU)     (None, 7, 7, 960)    0           block_15_expand_BN[0][0]         \n",
      "__________________________________________________________________________________________________\n",
      "block_15_depthwise (DepthwiseCo (None, 7, 7, 960)    8640        block_15_expand_relu[0][0]       \n",
      "__________________________________________________________________________________________________\n",
      "block_15_depthwise_BN (BatchNor (None, 7, 7, 960)    3840        block_15_depthwise[0][0]         \n",
      "__________________________________________________________________________________________________\n",
      "block_15_depthwise_relu (ReLU)  (None, 7, 7, 960)    0           block_15_depthwise_BN[0][0]      \n",
      "__________________________________________________________________________________________________\n",
      "block_15_project (Conv2D)       (None, 7, 7, 160)    153600      block_15_depthwise_relu[0][0]    \n",
      "__________________________________________________________________________________________________\n",
      "block_15_project_BN (BatchNorma (None, 7, 7, 160)    640         block_15_project[0][0]           \n",
      "__________________________________________________________________________________________________\n",
      "block_15_add (Add)              (None, 7, 7, 160)    0           block_14_add[0][0]               \n",
      "                                                                 block_15_project_BN[0][0]        \n",
      "__________________________________________________________________________________________________\n",
      "block_16_expand (Conv2D)        (None, 7, 7, 960)    153600      block_15_add[0][0]               \n",
      "__________________________________________________________________________________________________\n",
      "block_16_expand_BN (BatchNormal (None, 7, 7, 960)    3840        block_16_expand[0][0]            \n",
      "__________________________________________________________________________________________________\n",
      "block_16_expand_relu (ReLU)     (None, 7, 7, 960)    0           block_16_expand_BN[0][0]         \n",
      "__________________________________________________________________________________________________\n",
      "block_16_depthwise (DepthwiseCo (None, 7, 7, 960)    8640        block_16_expand_relu[0][0]       \n",
      "__________________________________________________________________________________________________\n",
      "block_16_depthwise_BN (BatchNor (None, 7, 7, 960)    3840        block_16_depthwise[0][0]         \n",
      "__________________________________________________________________________________________________\n",
      "block_16_depthwise_relu (ReLU)  (None, 7, 7, 960)    0           block_16_depthwise_BN[0][0]      \n",
      "__________________________________________________________________________________________________\n",
      "block_16_project (Conv2D)       (None, 7, 7, 320)    307200      block_16_depthwise_relu[0][0]    \n",
      "__________________________________________________________________________________________________\n",
      "block_16_project_BN (BatchNorma (None, 7, 7, 320)    1280        block_16_project[0][0]           \n",
      "__________________________________________________________________________________________________\n",
      "Conv_1 (Conv2D)                 (None, 7, 7, 1280)   409600      block_16_project_BN[0][0]        \n",
      "__________________________________________________________________________________________________\n",
      "Conv_1_bn (BatchNormalization)  (None, 7, 7, 1280)   5120        Conv_1[0][0]                     \n",
      "__________________________________________________________________________________________________\n",
      "out_relu (ReLU)                 (None, 7, 7, 1280)   0           Conv_1_bn[0][0]                  \n",
      "==================================================================================================\n",
      "Total params: 2,257,984\n",
      "Trainable params: 2,223,872\n",
      "Non-trainable params: 34,112\n",
      "__________________________________________________________________________________________________\n"
     ]
    }
   ],
   "source": [
    "base_model.summary()"
   ]
  },
  {
   "cell_type": "code",
   "execution_count": 8,
   "metadata": {},
   "outputs": [
    {
     "name": "stdout",
     "output_type": "stream",
     "text": [
      "(4, 1280)\n"
     ]
    }
   ],
   "source": [
    "global_average_layer = tf.keras.layers.GlobalAveragePooling2D()\n",
    "feature_batch_average = global_average_layer(feature_batch)\n",
    "print(feature_batch_average.shape)"
   ]
  },
  {
   "cell_type": "code",
   "execution_count": 9,
   "metadata": {},
   "outputs": [
    {
     "name": "stdout",
     "output_type": "stream",
     "text": [
      "(4, 6)\n"
     ]
    }
   ],
   "source": [
    "prediction_layer = keras.layers.Dense(6, activation='softmax')\n",
    "prediction_batch = prediction_layer(feature_batch_average)\n",
    "print(prediction_batch.shape)"
   ]
  },
  {
   "cell_type": "code",
   "execution_count": 10,
   "metadata": {
    "colab": {
     "base_uri": "https://localhost:8080/",
     "height": 1000
    },
    "colab_type": "code",
    "id": "uPTxW0Huezg4",
    "outputId": "8cba049b-a0ab-4ea8-e051-e2b2506988cc"
   },
   "outputs": [],
   "source": [
    "model = tf.keras.Sequential([\n",
    "  base_model,\n",
    "  global_average_layer,\n",
    "  prediction_layer\n",
    "])"
   ]
  },
  {
   "cell_type": "code",
   "execution_count": 11,
   "metadata": {},
   "outputs": [],
   "source": [
    "base_learning_rate = 0.0001\n",
    "model.compile(optimizer=tf.keras.optimizers.Adam(lr=base_learning_rate),\n",
    "              loss='sparse_categorical_crossentropy',\n",
    "              metrics=['accuracy'])"
   ]
  },
  {
   "cell_type": "code",
   "execution_count": 12,
   "metadata": {},
   "outputs": [],
   "source": [
    "# from sklearn.utils import class_weight\n",
    "\n",
    "# class_weights = class_weight.compute_class_weight('balanced',\n",
    "#                                                  np.unique(y_train),\n",
    "#                                                  y_train)\n",
    "# class_weights"
   ]
  },
  {
   "cell_type": "code",
   "execution_count": 13,
   "metadata": {},
   "outputs": [],
   "source": [
    "# class_weight = {}\n",
    "\n",
    "# for i in range(6):\n",
    "#     class_weight[i] = class_weights[i]\n",
    "    \n",
    "# class_weight"
   ]
  },
  {
   "cell_type": "code",
   "execution_count": 14,
   "metadata": {},
   "outputs": [],
   "source": [
    "# class_weight = [np.sqrt(np.sqrt(i)) for i in class_weights]\n",
    "# class_weight"
   ]
  },
  {
   "cell_type": "code",
   "execution_count": 15,
   "metadata": {},
   "outputs": [
    {
     "name": "stdout",
     "output_type": "stream",
     "text": [
      "Model: \"sequential\"\n",
      "_________________________________________________________________\n",
      "Layer (type)                 Output Shape              Param #   \n",
      "=================================================================\n",
      "mobilenetv2_1.00_224 (Model) (None, 7, 7, 1280)        2257984   \n",
      "_________________________________________________________________\n",
      "global_average_pooling2d (Gl (None, 1280)              0         \n",
      "_________________________________________________________________\n",
      "dense (Dense)                (None, 6)                 7686      \n",
      "=================================================================\n",
      "Total params: 2,265,670\n",
      "Trainable params: 2,231,558\n",
      "Non-trainable params: 34,112\n",
      "_________________________________________________________________\n"
     ]
    }
   ],
   "source": [
    "model.summary()"
   ]
  },
  {
   "cell_type": "code",
   "execution_count": 16,
   "metadata": {},
   "outputs": [
    {
     "data": {
      "text/plain": [
       "[<tf.Variable 'Conv1/kernel:0' shape=(3, 3, 3, 32) dtype=float32>,\n",
       " <tf.Variable 'bn_Conv1/gamma:0' shape=(32,) dtype=float32>,\n",
       " <tf.Variable 'bn_Conv1/beta:0' shape=(32,) dtype=float32>,\n",
       " <tf.Variable 'expanded_conv_depthwise/depthwise_kernel:0' shape=(3, 3, 32, 1) dtype=float32>,\n",
       " <tf.Variable 'expanded_conv_depthwise_BN/gamma:0' shape=(32,) dtype=float32>,\n",
       " <tf.Variable 'expanded_conv_depthwise_BN/beta:0' shape=(32,) dtype=float32>,\n",
       " <tf.Variable 'expanded_conv_project/kernel:0' shape=(1, 1, 32, 16) dtype=float32>,\n",
       " <tf.Variable 'expanded_conv_project_BN/gamma:0' shape=(16,) dtype=float32>,\n",
       " <tf.Variable 'expanded_conv_project_BN/beta:0' shape=(16,) dtype=float32>,\n",
       " <tf.Variable 'block_1_expand/kernel:0' shape=(1, 1, 16, 96) dtype=float32>,\n",
       " <tf.Variable 'block_1_expand_BN/gamma:0' shape=(96,) dtype=float32>,\n",
       " <tf.Variable 'block_1_expand_BN/beta:0' shape=(96,) dtype=float32>,\n",
       " <tf.Variable 'block_1_depthwise/depthwise_kernel:0' shape=(3, 3, 96, 1) dtype=float32>,\n",
       " <tf.Variable 'block_1_depthwise_BN/gamma:0' shape=(96,) dtype=float32>,\n",
       " <tf.Variable 'block_1_depthwise_BN/beta:0' shape=(96,) dtype=float32>,\n",
       " <tf.Variable 'block_1_project/kernel:0' shape=(1, 1, 96, 24) dtype=float32>,\n",
       " <tf.Variable 'block_1_project_BN/gamma:0' shape=(24,) dtype=float32>,\n",
       " <tf.Variable 'block_1_project_BN/beta:0' shape=(24,) dtype=float32>,\n",
       " <tf.Variable 'block_2_expand/kernel:0' shape=(1, 1, 24, 144) dtype=float32>,\n",
       " <tf.Variable 'block_2_expand_BN/gamma:0' shape=(144,) dtype=float32>,\n",
       " <tf.Variable 'block_2_expand_BN/beta:0' shape=(144,) dtype=float32>,\n",
       " <tf.Variable 'block_2_depthwise/depthwise_kernel:0' shape=(3, 3, 144, 1) dtype=float32>,\n",
       " <tf.Variable 'block_2_depthwise_BN/gamma:0' shape=(144,) dtype=float32>,\n",
       " <tf.Variable 'block_2_depthwise_BN/beta:0' shape=(144,) dtype=float32>,\n",
       " <tf.Variable 'block_2_project/kernel:0' shape=(1, 1, 144, 24) dtype=float32>,\n",
       " <tf.Variable 'block_2_project_BN/gamma:0' shape=(24,) dtype=float32>,\n",
       " <tf.Variable 'block_2_project_BN/beta:0' shape=(24,) dtype=float32>,\n",
       " <tf.Variable 'block_3_expand/kernel:0' shape=(1, 1, 24, 144) dtype=float32>,\n",
       " <tf.Variable 'block_3_expand_BN/gamma:0' shape=(144,) dtype=float32>,\n",
       " <tf.Variable 'block_3_expand_BN/beta:0' shape=(144,) dtype=float32>,\n",
       " <tf.Variable 'block_3_depthwise/depthwise_kernel:0' shape=(3, 3, 144, 1) dtype=float32>,\n",
       " <tf.Variable 'block_3_depthwise_BN/gamma:0' shape=(144,) dtype=float32>,\n",
       " <tf.Variable 'block_3_depthwise_BN/beta:0' shape=(144,) dtype=float32>,\n",
       " <tf.Variable 'block_3_project/kernel:0' shape=(1, 1, 144, 32) dtype=float32>,\n",
       " <tf.Variable 'block_3_project_BN/gamma:0' shape=(32,) dtype=float32>,\n",
       " <tf.Variable 'block_3_project_BN/beta:0' shape=(32,) dtype=float32>,\n",
       " <tf.Variable 'block_4_expand/kernel:0' shape=(1, 1, 32, 192) dtype=float32>,\n",
       " <tf.Variable 'block_4_expand_BN/gamma:0' shape=(192,) dtype=float32>,\n",
       " <tf.Variable 'block_4_expand_BN/beta:0' shape=(192,) dtype=float32>,\n",
       " <tf.Variable 'block_4_depthwise/depthwise_kernel:0' shape=(3, 3, 192, 1) dtype=float32>,\n",
       " <tf.Variable 'block_4_depthwise_BN/gamma:0' shape=(192,) dtype=float32>,\n",
       " <tf.Variable 'block_4_depthwise_BN/beta:0' shape=(192,) dtype=float32>,\n",
       " <tf.Variable 'block_4_project/kernel:0' shape=(1, 1, 192, 32) dtype=float32>,\n",
       " <tf.Variable 'block_4_project_BN/gamma:0' shape=(32,) dtype=float32>,\n",
       " <tf.Variable 'block_4_project_BN/beta:0' shape=(32,) dtype=float32>,\n",
       " <tf.Variable 'block_5_expand/kernel:0' shape=(1, 1, 32, 192) dtype=float32>,\n",
       " <tf.Variable 'block_5_expand_BN/gamma:0' shape=(192,) dtype=float32>,\n",
       " <tf.Variable 'block_5_expand_BN/beta:0' shape=(192,) dtype=float32>,\n",
       " <tf.Variable 'block_5_depthwise/depthwise_kernel:0' shape=(3, 3, 192, 1) dtype=float32>,\n",
       " <tf.Variable 'block_5_depthwise_BN/gamma:0' shape=(192,) dtype=float32>,\n",
       " <tf.Variable 'block_5_depthwise_BN/beta:0' shape=(192,) dtype=float32>,\n",
       " <tf.Variable 'block_5_project/kernel:0' shape=(1, 1, 192, 32) dtype=float32>,\n",
       " <tf.Variable 'block_5_project_BN/gamma:0' shape=(32,) dtype=float32>,\n",
       " <tf.Variable 'block_5_project_BN/beta:0' shape=(32,) dtype=float32>,\n",
       " <tf.Variable 'block_6_expand/kernel:0' shape=(1, 1, 32, 192) dtype=float32>,\n",
       " <tf.Variable 'block_6_expand_BN/gamma:0' shape=(192,) dtype=float32>,\n",
       " <tf.Variable 'block_6_expand_BN/beta:0' shape=(192,) dtype=float32>,\n",
       " <tf.Variable 'block_6_depthwise/depthwise_kernel:0' shape=(3, 3, 192, 1) dtype=float32>,\n",
       " <tf.Variable 'block_6_depthwise_BN/gamma:0' shape=(192,) dtype=float32>,\n",
       " <tf.Variable 'block_6_depthwise_BN/beta:0' shape=(192,) dtype=float32>,\n",
       " <tf.Variable 'block_6_project/kernel:0' shape=(1, 1, 192, 64) dtype=float32>,\n",
       " <tf.Variable 'block_6_project_BN/gamma:0' shape=(64,) dtype=float32>,\n",
       " <tf.Variable 'block_6_project_BN/beta:0' shape=(64,) dtype=float32>,\n",
       " <tf.Variable 'block_7_expand/kernel:0' shape=(1, 1, 64, 384) dtype=float32>,\n",
       " <tf.Variable 'block_7_expand_BN/gamma:0' shape=(384,) dtype=float32>,\n",
       " <tf.Variable 'block_7_expand_BN/beta:0' shape=(384,) dtype=float32>,\n",
       " <tf.Variable 'block_7_depthwise/depthwise_kernel:0' shape=(3, 3, 384, 1) dtype=float32>,\n",
       " <tf.Variable 'block_7_depthwise_BN/gamma:0' shape=(384,) dtype=float32>,\n",
       " <tf.Variable 'block_7_depthwise_BN/beta:0' shape=(384,) dtype=float32>,\n",
       " <tf.Variable 'block_7_project/kernel:0' shape=(1, 1, 384, 64) dtype=float32>,\n",
       " <tf.Variable 'block_7_project_BN/gamma:0' shape=(64,) dtype=float32>,\n",
       " <tf.Variable 'block_7_project_BN/beta:0' shape=(64,) dtype=float32>,\n",
       " <tf.Variable 'block_8_expand/kernel:0' shape=(1, 1, 64, 384) dtype=float32>,\n",
       " <tf.Variable 'block_8_expand_BN/gamma:0' shape=(384,) dtype=float32>,\n",
       " <tf.Variable 'block_8_expand_BN/beta:0' shape=(384,) dtype=float32>,\n",
       " <tf.Variable 'block_8_depthwise/depthwise_kernel:0' shape=(3, 3, 384, 1) dtype=float32>,\n",
       " <tf.Variable 'block_8_depthwise_BN/gamma:0' shape=(384,) dtype=float32>,\n",
       " <tf.Variable 'block_8_depthwise_BN/beta:0' shape=(384,) dtype=float32>,\n",
       " <tf.Variable 'block_8_project/kernel:0' shape=(1, 1, 384, 64) dtype=float32>,\n",
       " <tf.Variable 'block_8_project_BN/gamma:0' shape=(64,) dtype=float32>,\n",
       " <tf.Variable 'block_8_project_BN/beta:0' shape=(64,) dtype=float32>,\n",
       " <tf.Variable 'block_9_expand/kernel:0' shape=(1, 1, 64, 384) dtype=float32>,\n",
       " <tf.Variable 'block_9_expand_BN/gamma:0' shape=(384,) dtype=float32>,\n",
       " <tf.Variable 'block_9_expand_BN/beta:0' shape=(384,) dtype=float32>,\n",
       " <tf.Variable 'block_9_depthwise/depthwise_kernel:0' shape=(3, 3, 384, 1) dtype=float32>,\n",
       " <tf.Variable 'block_9_depthwise_BN/gamma:0' shape=(384,) dtype=float32>,\n",
       " <tf.Variable 'block_9_depthwise_BN/beta:0' shape=(384,) dtype=float32>,\n",
       " <tf.Variable 'block_9_project/kernel:0' shape=(1, 1, 384, 64) dtype=float32>,\n",
       " <tf.Variable 'block_9_project_BN/gamma:0' shape=(64,) dtype=float32>,\n",
       " <tf.Variable 'block_9_project_BN/beta:0' shape=(64,) dtype=float32>,\n",
       " <tf.Variable 'block_10_expand/kernel:0' shape=(1, 1, 64, 384) dtype=float32>,\n",
       " <tf.Variable 'block_10_expand_BN/gamma:0' shape=(384,) dtype=float32>,\n",
       " <tf.Variable 'block_10_expand_BN/beta:0' shape=(384,) dtype=float32>,\n",
       " <tf.Variable 'block_10_depthwise/depthwise_kernel:0' shape=(3, 3, 384, 1) dtype=float32>,\n",
       " <tf.Variable 'block_10_depthwise_BN/gamma:0' shape=(384,) dtype=float32>,\n",
       " <tf.Variable 'block_10_depthwise_BN/beta:0' shape=(384,) dtype=float32>,\n",
       " <tf.Variable 'block_10_project/kernel:0' shape=(1, 1, 384, 96) dtype=float32>,\n",
       " <tf.Variable 'block_10_project_BN/gamma:0' shape=(96,) dtype=float32>,\n",
       " <tf.Variable 'block_10_project_BN/beta:0' shape=(96,) dtype=float32>,\n",
       " <tf.Variable 'block_11_expand/kernel:0' shape=(1, 1, 96, 576) dtype=float32>,\n",
       " <tf.Variable 'block_11_expand_BN/gamma:0' shape=(576,) dtype=float32>,\n",
       " <tf.Variable 'block_11_expand_BN/beta:0' shape=(576,) dtype=float32>,\n",
       " <tf.Variable 'block_11_depthwise/depthwise_kernel:0' shape=(3, 3, 576, 1) dtype=float32>,\n",
       " <tf.Variable 'block_11_depthwise_BN/gamma:0' shape=(576,) dtype=float32>,\n",
       " <tf.Variable 'block_11_depthwise_BN/beta:0' shape=(576,) dtype=float32>,\n",
       " <tf.Variable 'block_11_project/kernel:0' shape=(1, 1, 576, 96) dtype=float32>,\n",
       " <tf.Variable 'block_11_project_BN/gamma:0' shape=(96,) dtype=float32>,\n",
       " <tf.Variable 'block_11_project_BN/beta:0' shape=(96,) dtype=float32>,\n",
       " <tf.Variable 'block_12_expand/kernel:0' shape=(1, 1, 96, 576) dtype=float32>,\n",
       " <tf.Variable 'block_12_expand_BN/gamma:0' shape=(576,) dtype=float32>,\n",
       " <tf.Variable 'block_12_expand_BN/beta:0' shape=(576,) dtype=float32>,\n",
       " <tf.Variable 'block_12_depthwise/depthwise_kernel:0' shape=(3, 3, 576, 1) dtype=float32>,\n",
       " <tf.Variable 'block_12_depthwise_BN/gamma:0' shape=(576,) dtype=float32>,\n",
       " <tf.Variable 'block_12_depthwise_BN/beta:0' shape=(576,) dtype=float32>,\n",
       " <tf.Variable 'block_12_project/kernel:0' shape=(1, 1, 576, 96) dtype=float32>,\n",
       " <tf.Variable 'block_12_project_BN/gamma:0' shape=(96,) dtype=float32>,\n",
       " <tf.Variable 'block_12_project_BN/beta:0' shape=(96,) dtype=float32>,\n",
       " <tf.Variable 'block_13_expand/kernel:0' shape=(1, 1, 96, 576) dtype=float32>,\n",
       " <tf.Variable 'block_13_expand_BN/gamma:0' shape=(576,) dtype=float32>,\n",
       " <tf.Variable 'block_13_expand_BN/beta:0' shape=(576,) dtype=float32>,\n",
       " <tf.Variable 'block_13_depthwise/depthwise_kernel:0' shape=(3, 3, 576, 1) dtype=float32>,\n",
       " <tf.Variable 'block_13_depthwise_BN/gamma:0' shape=(576,) dtype=float32>,\n",
       " <tf.Variable 'block_13_depthwise_BN/beta:0' shape=(576,) dtype=float32>,\n",
       " <tf.Variable 'block_13_project/kernel:0' shape=(1, 1, 576, 160) dtype=float32>,\n",
       " <tf.Variable 'block_13_project_BN/gamma:0' shape=(160,) dtype=float32>,\n",
       " <tf.Variable 'block_13_project_BN/beta:0' shape=(160,) dtype=float32>,\n",
       " <tf.Variable 'block_14_expand/kernel:0' shape=(1, 1, 160, 960) dtype=float32>,\n",
       " <tf.Variable 'block_14_expand_BN/gamma:0' shape=(960,) dtype=float32>,\n",
       " <tf.Variable 'block_14_expand_BN/beta:0' shape=(960,) dtype=float32>,\n",
       " <tf.Variable 'block_14_depthwise/depthwise_kernel:0' shape=(3, 3, 960, 1) dtype=float32>,\n",
       " <tf.Variable 'block_14_depthwise_BN/gamma:0' shape=(960,) dtype=float32>,\n",
       " <tf.Variable 'block_14_depthwise_BN/beta:0' shape=(960,) dtype=float32>,\n",
       " <tf.Variable 'block_14_project/kernel:0' shape=(1, 1, 960, 160) dtype=float32>,\n",
       " <tf.Variable 'block_14_project_BN/gamma:0' shape=(160,) dtype=float32>,\n",
       " <tf.Variable 'block_14_project_BN/beta:0' shape=(160,) dtype=float32>,\n",
       " <tf.Variable 'block_15_expand/kernel:0' shape=(1, 1, 160, 960) dtype=float32>,\n",
       " <tf.Variable 'block_15_expand_BN/gamma:0' shape=(960,) dtype=float32>,\n",
       " <tf.Variable 'block_15_expand_BN/beta:0' shape=(960,) dtype=float32>,\n",
       " <tf.Variable 'block_15_depthwise/depthwise_kernel:0' shape=(3, 3, 960, 1) dtype=float32>,\n",
       " <tf.Variable 'block_15_depthwise_BN/gamma:0' shape=(960,) dtype=float32>,\n",
       " <tf.Variable 'block_15_depthwise_BN/beta:0' shape=(960,) dtype=float32>,\n",
       " <tf.Variable 'block_15_project/kernel:0' shape=(1, 1, 960, 160) dtype=float32>,\n",
       " <tf.Variable 'block_15_project_BN/gamma:0' shape=(160,) dtype=float32>,\n",
       " <tf.Variable 'block_15_project_BN/beta:0' shape=(160,) dtype=float32>,\n",
       " <tf.Variable 'block_16_expand/kernel:0' shape=(1, 1, 160, 960) dtype=float32>,\n",
       " <tf.Variable 'block_16_expand_BN/gamma:0' shape=(960,) dtype=float32>,\n",
       " <tf.Variable 'block_16_expand_BN/beta:0' shape=(960,) dtype=float32>,\n",
       " <tf.Variable 'block_16_depthwise/depthwise_kernel:0' shape=(3, 3, 960, 1) dtype=float32>,\n",
       " <tf.Variable 'block_16_depthwise_BN/gamma:0' shape=(960,) dtype=float32>,\n",
       " <tf.Variable 'block_16_depthwise_BN/beta:0' shape=(960,) dtype=float32>,\n",
       " <tf.Variable 'block_16_project/kernel:0' shape=(1, 1, 960, 320) dtype=float32>,\n",
       " <tf.Variable 'block_16_project_BN/gamma:0' shape=(320,) dtype=float32>,\n",
       " <tf.Variable 'block_16_project_BN/beta:0' shape=(320,) dtype=float32>,\n",
       " <tf.Variable 'Conv_1/kernel:0' shape=(1, 1, 320, 1280) dtype=float32>,\n",
       " <tf.Variable 'Conv_1_bn/gamma:0' shape=(1280,) dtype=float32>,\n",
       " <tf.Variable 'Conv_1_bn/beta:0' shape=(1280,) dtype=float32>,\n",
       " <tf.Variable 'dense/kernel:0' shape=(1280, 6) dtype=float32>,\n",
       " <tf.Variable 'dense/bias:0' shape=(6,) dtype=float32>]"
      ]
     },
     "execution_count": 16,
     "metadata": {},
     "output_type": "execute_result"
    }
   ],
   "source": [
    "model.trainable_variables"
   ]
  },
  {
   "cell_type": "code",
   "execution_count": 17,
   "metadata": {},
   "outputs": [
    {
     "name": "stdout",
     "output_type": "stream",
     "text": [
      "WARNING:tensorflow:`period` argument is deprecated. Please use `save_freq` to specify the frequency in number of samples seen.\n"
     ]
    }
   ],
   "source": [
    "callback = [keras.callbacks.ModelCheckpoint('./checkpoint', monitor='val_loss', verbose=0, save_best_only=False, save_weights_only=False, mode='auto', period=1),\n",
    "            keras.callbacks.EarlyStopping(monitor='val_loss', min_delta=0, patience=0, verbose=0, mode='auto', baseline=None, restore_best_weights=False)]"
   ]
  },
  {
   "cell_type": "code",
   "execution_count": 18,
   "metadata": {},
   "outputs": [
    {
     "name": "stdout",
     "output_type": "stream",
     "text": [
      "Train on 47838 samples, validate on 1662 samples\n",
      "Epoch 1/20\n",
      "47838/47838 [==============================] - 340s 7ms/sample - loss: 0.0748 - acc: 0.9762 - val_loss: 0.0693 - val_acc: 0.9777\n",
      "Epoch 2/20\n",
      "47838/47838 [==============================] - 271s 6ms/sample - loss: 0.0130 - acc: 0.9963 - val_loss: 0.0814 - val_acc: 0.9832\n"
     ]
    }
   ],
   "source": [
    "trained = model.fit(X_train, y_train, epochs=20, batch_size=32, validation_data=(X_val,y_val), callbacks=callback)"
   ]
  },
  {
   "cell_type": "code",
   "execution_count": 22,
   "metadata": {},
   "outputs": [
    {
     "data": {
      "image/png": "[encoded data removed]",
      "text/plain": [
       "<Figure size 432x288 with 1 Axes>"
      ]
     },
     "metadata": {
      "needs_background": "light"
     },
     "output_type": "display_data"
    },
    {
     "data": {
      "image/png": "[encoded data removed]",
      "text/plain": [
       "<Figure size 432x288 with 1 Axes>"
      ]
     },
     "metadata": {
      "needs_background": "light"
     },
     "output_type": "display_data"
    }
   ],
   "source": [
    "plot.plot(trained.history['acc'])\n",
    "plot.plot(trained.history['val_acc'])\n",
    "plot.title('Model accuracy')\n",
    "plot.ylabel('Accuracy')\n",
    "plot.xlabel('Epoch')\n",
    "plot.legend(['Train', 'Valid'], loc='upper left')\n",
    "plot.show()\n",
    "\n",
    "plot.plot(trained.history['loss'])\n",
    "plot.plot(trained.history['val_loss'])\n",
    "plot.title('Model loss')\n",
    "plot.ylabel('Loss')\n",
    "plot.xlabel('Epoch')\n",
    "plot.legend(['Train', 'Valid'], loc='upper left')\n",
    "plot.show()"
   ]
  },
  {
   "cell_type": "code",
   "execution_count": 20,
   "metadata": {},
   "outputs": [
    {
     "name": "stdout",
     "output_type": "stream",
     "text": [
      "1679/1679 [==============================] - 10s 6ms/sample - loss: 0.1006 - acc: 0.9720\n"
     ]
    },
    {
     "data": {
      "text/plain": [
       "[0.10057604945060007, 0.97200716]"
      ]
     },
     "execution_count": 20,
     "metadata": {},
     "output_type": "execute_result"
    }
   ],
   "source": [
    "# test_images,test_labels = get_images('./test/')\n",
    "# test_images = np.array(test_images)\n",
    "# test_labels = np.array(test_labels)\n",
    "model.evaluate(X_test,y_test, verbose=1)"
   ]
  },
  {
   "cell_type": "code",
   "execution_count": 21,
   "metadata": {},
   "outputs": [],
   "source": [
    "model.save('97_2_per_mobilenet_v2.h5')"
   ]
  },
  {
   "cell_type": "code",
   "execution_count": null,
   "metadata": {},
   "outputs": [],
   "source": []
  }
 ],
 "metadata": {
  "accelerator": "GPU",
  "colab": {
   "collapsed_sections": [],
   "name": "Final preject mini dataset first step.ipynb",
   "provenance": []
  },
  "kernelspec": {
   "display_name": "Python 3",
   "language": "python",
   "name": "python3"
  },
  "language_info": {
   "codemirror_mode": {
    "name": "ipython",
    "version": 3
   },
   "file_extension": ".py",
   "mimetype": "text/x-python",
   "name": "python",
   "nbconvert_exporter": "python",
   "pygments_lexer": "ipython3",
   "version": "3.7.4"
  }
 },
 "nbformat": 4,
 "nbformat_minor": 4
}
