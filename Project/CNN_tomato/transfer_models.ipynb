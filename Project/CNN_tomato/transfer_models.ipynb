{
 "cells": [
  {
   "cell_type": "code",
   "execution_count": 1,
   "metadata": {},
   "outputs": [
    {
     "name": "stdout",
     "output_type": "stream",
     "text": [
      "Interactive namespace is empty.\n"
     ]
    }
   ],
   "source": [
    "%whos"
   ]
  },
  {
   "cell_type": "code",
   "execution_count": 75,
   "metadata": {},
   "outputs": [
    {
     "name": "stdin",
     "output_type": "stream",
     "text": [
      "Once deleted, variables cannot be recovered. Proceed (y/[n])?  y\n"
     ]
    }
   ],
   "source": [
    "%reset"
   ]
  },
  {
   "cell_type": "code",
   "execution_count": null,
   "metadata": {},
   "outputs": [],
   "source": [
    "# !pip install imblearn"
   ]
  },
  {
   "cell_type": "code",
   "execution_count": 2,
   "metadata": {
    "colab": {
     "base_uri": "https://localhost:8080/",
     "height": 99
    },
    "colab_type": "code",
    "id": "EUhlAxLGezgk",
    "outputId": "019a1063-6e0f-4f17-fc40-8bb0819c1f48"
   },
   "outputs": [],
   "source": [
    "import tensorflow as tf\n",
    "import tensorflow.keras.layers as Layers\n",
    "import tensorflow.keras.models as Models\n",
    "import tensorflow.keras.optimizers as Optimizer\n",
    "import tensorflow.keras.metrics as Metrics\n",
    "import tensorflow.keras.utils as Utils\n",
    "from tensorflow import keras\n",
    "import matplotlib.pyplot as plot\n",
    "import numpy as np\n",
    "from sklearn.model_selection import train_test_split\n",
    "# from imblearn.over_sampling import BorderlineSMOTE\n",
    "import random\n",
    "np.random.seed(42)\n",
    "tf.set_random_seed(42)\n",
    "random.seed(42)"
   ]
  },
  {
   "cell_type": "code",
   "execution_count": 3,
   "metadata": {
    "colab": {},
    "colab_type": "code",
    "id": "Z3Ryd55gezgv"
   },
   "outputs": [],
   "source": [
    "np_Images = np.load('./dataset/Image_224.npy') #converting the list of images to numpy array.\n",
    "np_Labels = np.load('./dataset/Label_224.npy')"
   ]
  },
  {
   "cell_type": "code",
   "execution_count": 4,
   "metadata": {
    "colab": {
     "base_uri": "https://localhost:8080/",
     "height": 53
    },
    "colab_type": "code",
    "id": "I_SnPdLNezgx",
    "outputId": "9281c49c-c2e0-4f7c-d595-a35bc84d6fb6"
   },
   "outputs": [
    {
     "name": "stdout",
     "output_type": "stream",
     "text": [
      "Shape of Images: (16785, 224, 224, 3)\n",
      "Shape of Labels: (16785,)\n"
     ]
    }
   ],
   "source": [
    "print(\"Shape of Images:\",np_Images.shape)\n",
    "print(\"Shape of Labels:\",np_Labels.shape)"
   ]
  },
  {
   "cell_type": "code",
   "execution_count": 5,
   "metadata": {},
   "outputs": [
    {
     "data": {
      "text/plain": [
       "array([9955,  229,  766, 2061,  426, 3348])"
      ]
     },
     "execution_count": 5,
     "metadata": {},
     "output_type": "execute_result"
    }
   ],
   "source": [
    "np.bincount(np_Labels)"
   ]
  },
  {
   "cell_type": "code",
   "execution_count": 6,
   "metadata": {},
   "outputs": [
    {
     "name": "stdout",
     "output_type": "stream",
     "text": [
      "WARNING:tensorflow:From /opt/anaconda3/lib/python3.7/site-packages/tensorflow_core/python/ops/resource_variable_ops.py:1630: calling BaseResourceVariable.__init__ (from tensorflow.python.ops.resource_variable_ops) with constraint is deprecated and will be removed in a future version.\n",
      "Instructions for updating:\n",
      "If using Keras pass *_constraint arguments to layers.\n"
     ]
    }
   ],
   "source": [
    "np_Images=tf.keras.applications.resnet50.preprocess_input(np_Images)\n",
    "\n",
    "X_train_tmp, X_test, y_train_tmp, y_test = train_test_split(np_Images, np_Labels, test_size=0.1, random_state=42, stratify=np_Labels)\n",
    "X_train, X_val, y_train, y_val = train_test_split(X_train_tmp, y_train_tmp, test_size=0.11, random_state=42 ,stratify=y_train_tmp)\n",
    "\n",
    "IMG_SHAPE = X_train[0].shape\n",
    "\n",
    "base_model = tf.keras.applications.ResNet50(input_shape=IMG_SHAPE,\n",
    "                                            include_top=False,   \n",
    "                                            weights='imagenet')"
   ]
  },
  {
   "cell_type": "code",
   "execution_count": 15,
   "metadata": {},
   "outputs": [
    {
     "name": "stdout",
     "output_type": "stream",
     "text": [
      "WARNING:tensorflow:From /opt/anaconda3/lib/python3.7/site-packages/tensorflow_core/python/ops/resource_variable_ops.py:1630: calling BaseResourceVariable.__init__ (from tensorflow.python.ops.resource_variable_ops) with constraint is deprecated and will be removed in a future version.\n",
      "Instructions for updating:\n",
      "If using Keras pass *_constraint arguments to layers.\n",
      "Downloading data from https://github.com/fchollet/deep-learning-models/releases/download/v0.4/xception_weights_tf_dim_ordering_tf_kernels_notop.h5\n",
      "83689472/83683744 [==============================] - 3s 0us/step\n"
     ]
    }
   ],
   "source": [
    "# np_Images=tf.keras.applications.xception.preprocess_input(np_Images)\n",
    "\n",
    "# X_train_tmp, X_test, y_train_tmp, y_test = train_test_split(np_Images, np_Labels, test_size=0.1, random_state=42, stratify=np_Labels)\n",
    "# X_train, X_val, y_train, y_val = train_test_split(X_train_tmp, y_train_tmp, test_size=0.11, random_state=42 ,stratify=y_train_tmp)\n",
    "\n",
    "# IMG_SHAPE = X_train[0].shape\n",
    "\n",
    "# base_model = tf.keras.applications.Xception(input_shape=IMG_SHAPE,\n",
    "#                                             include_top=False,   \n",
    "#                                             weights='imagenet')"
   ]
  },
  {
   "cell_type": "code",
   "execution_count": 5,
   "metadata": {},
   "outputs": [
    {
     "name": "stdout",
     "output_type": "stream",
     "text": [
      "WARNING:tensorflow:From /opt/anaconda3/lib/python3.7/site-packages/tensorflow_core/python/ops/resource_variable_ops.py:1630: calling BaseResourceVariable.__init__ (from tensorflow.python.ops.resource_variable_ops) with constraint is deprecated and will be removed in a future version.\n",
      "Instructions for updating:\n",
      "If using Keras pass *_constraint arguments to layers.\n",
      "Downloading data from https://github.com/fchollet/deep-learning-models/releases/download/v0.1/vgg16_weights_tf_dim_ordering_tf_kernels_notop.h5\n",
      "58892288/58889256 [==============================] - 9s 0us/step\n"
     ]
    }
   ],
   "source": [
    "# np_Images=tf.keras.applications.vgg16.preprocess_input(np_Images)\n",
    "\n",
    "# X_train_tmp, X_test, y_train_tmp, y_test = train_test_split(np_Images, np_Labels, test_size=0.1, random_state=42, stratify=np_Labels)\n",
    "# X_train, X_val, y_train, y_val = train_test_split(X_train_tmp, y_train_tmp, test_size=0.11, random_state=42 ,stratify=y_train_tmp)\n",
    "\n",
    "# IMG_SHAPE = X_train[0].shape\n",
    "\n",
    "# base_model = tf.keras.applications.VGG16(input_shape=IMG_SHAPE,\n",
    "#                                             include_top=False,   \n",
    "#                                             weights='imagenet')"
   ]
  },
  {
   "cell_type": "code",
   "execution_count": 4,
   "metadata": {},
   "outputs": [
    {
     "name": "stdout",
     "output_type": "stream",
     "text": [
      "WARNING:tensorflow:From /opt/anaconda3/lib/python3.7/site-packages/tensorflow_core/python/ops/resource_variable_ops.py:1630: calling BaseResourceVariable.__init__ (from tensorflow.python.ops.resource_variable_ops) with constraint is deprecated and will be removed in a future version.\n",
      "Instructions for updating:\n",
      "If using Keras pass *_constraint arguments to layers.\n",
      "Downloading data from https://github.com/fchollet/deep-learning-models/releases/download/v0.5/inception_v3_weights_tf_dim_ordering_tf_kernels_notop.h5\n",
      "87916544/87910968 [==============================] - 2s 0us/step\n"
     ]
    }
   ],
   "source": [
    "# np_Images=tf.keras.applications.inception_v3.preprocess_input(np_Images)\n",
    "\n",
    "# X_train_tmp, X_test, y_train_tmp, y_test = train_test_split(np_Images, np_Labels, test_size=0.1, random_state=42, stratify=np_Labels)\n",
    "# X_train, X_val, y_train, y_val = train_test_split(X_train_tmp, y_train_tmp, test_size=0.11, random_state=42 ,stratify=y_train_tmp)\n",
    "\n",
    "# IMG_SHAPE = X_train[0].shape\n",
    "\n",
    "# base_model = tf.keras.applications.InceptionV3(input_shape=IMG_SHAPE,\n",
    "#                                             include_top=False,   \n",
    "#                                             weights='imagenet')"
   ]
  },
  {
   "cell_type": "code",
   "execution_count": 5,
   "metadata": {},
   "outputs": [
    {
     "name": "stdout",
     "output_type": "stream",
     "text": [
      "WARNING:tensorflow:From /opt/anaconda3/lib/python3.7/site-packages/tensorflow_core/python/ops/resource_variable_ops.py:1630: calling BaseResourceVariable.__init__ (from tensorflow.python.ops.resource_variable_ops) with constraint is deprecated and will be removed in a future version.\n",
      "Instructions for updating:\n",
      "If using Keras pass *_constraint arguments to layers.\n"
     ]
    }
   ],
   "source": [
    "# np_Images=tf.keras.applications.mobilenet_v2.preprocess_input(np_Images)\n",
    "\n",
    "# X_train_tmp, X_test, y_train_tmp, y_test = train_test_split(np_Images, np_Labels, test_size=0.1, random_state=42, stratify=np_Labels)\n",
    "# X_train, X_val, y_train, y_val = train_test_split(X_train_tmp, y_train_tmp, test_size=0.11, random_state=42 ,stratify=y_train_tmp)\n",
    "\n",
    "# IMG_SHAPE = X_train[0].shape\n",
    "\n",
    "# base_model = tf.keras.applications.MobileNetV2(input_shape=IMG_SHAPE,\n",
    "#                                             include_top=False,   \n",
    "#                                             weights='imagenet')"
   ]
  },
  {
   "cell_type": "code",
   "execution_count": 7,
   "metadata": {},
   "outputs": [],
   "source": [
    "base_model.trainable = True"
   ]
  },
  {
   "cell_type": "code",
   "execution_count": 8,
   "metadata": {},
   "outputs": [
    {
     "name": "stdout",
     "output_type": "stream",
     "text": [
      "Model: \"resnet50\"\n",
      "__________________________________________________________________________________________________\n",
      "Layer (type)                    Output Shape         Param #     Connected to                     \n",
      "==================================================================================================\n",
      "input_1 (InputLayer)            [(None, 224, 224, 3) 0                                            \n",
      "__________________________________________________________________________________________________\n",
      "conv1_pad (ZeroPadding2D)       (None, 230, 230, 3)  0           input_1[0][0]                    \n",
      "__________________________________________________________________________________________________\n",
      "conv1_conv (Conv2D)             (None, 112, 112, 64) 9472        conv1_pad[0][0]                  \n",
      "__________________________________________________________________________________________________\n",
      "conv1_bn (BatchNormalization)   (None, 112, 112, 64) 256         conv1_conv[0][0]                 \n",
      "__________________________________________________________________________________________________\n",
      "conv1_relu (Activation)         (None, 112, 112, 64) 0           conv1_bn[0][0]                   \n",
      "__________________________________________________________________________________________________\n",
      "pool1_pad (ZeroPadding2D)       (None, 114, 114, 64) 0           conv1_relu[0][0]                 \n",
      "__________________________________________________________________________________________________\n",
      "pool1_pool (MaxPooling2D)       (None, 56, 56, 64)   0           pool1_pad[0][0]                  \n",
      "__________________________________________________________________________________________________\n",
      "conv2_block1_1_conv (Conv2D)    (None, 56, 56, 64)   4160        pool1_pool[0][0]                 \n",
      "__________________________________________________________________________________________________\n",
      "conv2_block1_1_bn (BatchNormali (None, 56, 56, 64)   256         conv2_block1_1_conv[0][0]        \n",
      "__________________________________________________________________________________________________\n",
      "conv2_block1_1_relu (Activation (None, 56, 56, 64)   0           conv2_block1_1_bn[0][0]          \n",
      "__________________________________________________________________________________________________\n",
      "conv2_block1_2_conv (Conv2D)    (None, 56, 56, 64)   36928       conv2_block1_1_relu[0][0]        \n",
      "__________________________________________________________________________________________________\n",
      "conv2_block1_2_bn (BatchNormali (None, 56, 56, 64)   256         conv2_block1_2_conv[0][0]        \n",
      "__________________________________________________________________________________________________\n",
      "conv2_block1_2_relu (Activation (None, 56, 56, 64)   0           conv2_block1_2_bn[0][0]          \n",
      "__________________________________________________________________________________________________\n",
      "conv2_block1_0_conv (Conv2D)    (None, 56, 56, 256)  16640       pool1_pool[0][0]                 \n",
      "__________________________________________________________________________________________________\n",
      "conv2_block1_3_conv (Conv2D)    (None, 56, 56, 256)  16640       conv2_block1_2_relu[0][0]        \n",
      "__________________________________________________________________________________________________\n",
      "conv2_block1_0_bn (BatchNormali (None, 56, 56, 256)  1024        conv2_block1_0_conv[0][0]        \n",
      "__________________________________________________________________________________________________\n",
      "conv2_block1_3_bn (BatchNormali (None, 56, 56, 256)  1024        conv2_block1_3_conv[0][0]        \n",
      "__________________________________________________________________________________________________\n",
      "conv2_block1_add (Add)          (None, 56, 56, 256)  0           conv2_block1_0_bn[0][0]          \n",
      "                                                                 conv2_block1_3_bn[0][0]          \n",
      "__________________________________________________________________________________________________\n",
      "conv2_block1_out (Activation)   (None, 56, 56, 256)  0           conv2_block1_add[0][0]           \n",
      "__________________________________________________________________________________________________\n",
      "conv2_block2_1_conv (Conv2D)    (None, 56, 56, 64)   16448       conv2_block1_out[0][0]           \n",
      "__________________________________________________________________________________________________\n",
      "conv2_block2_1_bn (BatchNormali (None, 56, 56, 64)   256         conv2_block2_1_conv[0][0]        \n",
      "__________________________________________________________________________________________________\n",
      "conv2_block2_1_relu (Activation (None, 56, 56, 64)   0           conv2_block2_1_bn[0][0]          \n",
      "__________________________________________________________________________________________________\n",
      "conv2_block2_2_conv (Conv2D)    (None, 56, 56, 64)   36928       conv2_block2_1_relu[0][0]        \n",
      "__________________________________________________________________________________________________\n",
      "conv2_block2_2_bn (BatchNormali (None, 56, 56, 64)   256         conv2_block2_2_conv[0][0]        \n",
      "__________________________________________________________________________________________________\n",
      "conv2_block2_2_relu (Activation (None, 56, 56, 64)   0           conv2_block2_2_bn[0][0]          \n",
      "__________________________________________________________________________________________________\n",
      "conv2_block2_3_conv (Conv2D)    (None, 56, 56, 256)  16640       conv2_block2_2_relu[0][0]        \n",
      "__________________________________________________________________________________________________\n",
      "conv2_block2_3_bn (BatchNormali (None, 56, 56, 256)  1024        conv2_block2_3_conv[0][0]        \n",
      "__________________________________________________________________________________________________\n",
      "conv2_block2_add (Add)          (None, 56, 56, 256)  0           conv2_block1_out[0][0]           \n",
      "                                                                 conv2_block2_3_bn[0][0]          \n",
      "__________________________________________________________________________________________________\n",
      "conv2_block2_out (Activation)   (None, 56, 56, 256)  0           conv2_block2_add[0][0]           \n",
      "__________________________________________________________________________________________________\n",
      "conv2_block3_1_conv (Conv2D)    (None, 56, 56, 64)   16448       conv2_block2_out[0][0]           \n",
      "__________________________________________________________________________________________________\n",
      "conv2_block3_1_bn (BatchNormali (None, 56, 56, 64)   256         conv2_block3_1_conv[0][0]        \n",
      "__________________________________________________________________________________________________\n",
      "conv2_block3_1_relu (Activation (None, 56, 56, 64)   0           conv2_block3_1_bn[0][0]          \n",
      "__________________________________________________________________________________________________\n",
      "conv2_block3_2_conv (Conv2D)    (None, 56, 56, 64)   36928       conv2_block3_1_relu[0][0]        \n",
      "__________________________________________________________________________________________________\n",
      "conv2_block3_2_bn (BatchNormali (None, 56, 56, 64)   256         conv2_block3_2_conv[0][0]        \n",
      "__________________________________________________________________________________________________\n",
      "conv2_block3_2_relu (Activation (None, 56, 56, 64)   0           conv2_block3_2_bn[0][0]          \n",
      "__________________________________________________________________________________________________\n",
      "conv2_block3_3_conv (Conv2D)    (None, 56, 56, 256)  16640       conv2_block3_2_relu[0][0]        \n",
      "__________________________________________________________________________________________________\n",
      "conv2_block3_3_bn (BatchNormali (None, 56, 56, 256)  1024        conv2_block3_3_conv[0][0]        \n",
      "__________________________________________________________________________________________________\n",
      "conv2_block3_add (Add)          (None, 56, 56, 256)  0           conv2_block2_out[0][0]           \n",
      "                                                                 conv2_block3_3_bn[0][0]          \n",
      "__________________________________________________________________________________________________\n",
      "conv2_block3_out (Activation)   (None, 56, 56, 256)  0           conv2_block3_add[0][0]           \n",
      "__________________________________________________________________________________________________\n",
      "conv3_block1_1_conv (Conv2D)    (None, 28, 28, 128)  32896       conv2_block3_out[0][0]           \n",
      "__________________________________________________________________________________________________\n",
      "conv3_block1_1_bn (BatchNormali (None, 28, 28, 128)  512         conv3_block1_1_conv[0][0]        \n",
      "__________________________________________________________________________________________________\n",
      "conv3_block1_1_relu (Activation (None, 28, 28, 128)  0           conv3_block1_1_bn[0][0]          \n",
      "__________________________________________________________________________________________________\n",
      "conv3_block1_2_conv (Conv2D)    (None, 28, 28, 128)  147584      conv3_block1_1_relu[0][0]        \n",
      "__________________________________________________________________________________________________\n",
      "conv3_block1_2_bn (BatchNormali (None, 28, 28, 128)  512         conv3_block1_2_conv[0][0]        \n",
      "__________________________________________________________________________________________________\n",
      "conv3_block1_2_relu (Activation (None, 28, 28, 128)  0           conv3_block1_2_bn[0][0]          \n",
      "__________________________________________________________________________________________________\n",
      "conv3_block1_0_conv (Conv2D)    (None, 28, 28, 512)  131584      conv2_block3_out[0][0]           \n",
      "__________________________________________________________________________________________________\n",
      "conv3_block1_3_conv (Conv2D)    (None, 28, 28, 512)  66048       conv3_block1_2_relu[0][0]        \n",
      "__________________________________________________________________________________________________\n",
      "conv3_block1_0_bn (BatchNormali (None, 28, 28, 512)  2048        conv3_block1_0_conv[0][0]        \n",
      "__________________________________________________________________________________________________\n",
      "conv3_block1_3_bn (BatchNormali (None, 28, 28, 512)  2048        conv3_block1_3_conv[0][0]        \n",
      "__________________________________________________________________________________________________\n",
      "conv3_block1_add (Add)          (None, 28, 28, 512)  0           conv3_block1_0_bn[0][0]          \n",
      "                                                                 conv3_block1_3_bn[0][0]          \n",
      "__________________________________________________________________________________________________\n",
      "conv3_block1_out (Activation)   (None, 28, 28, 512)  0           conv3_block1_add[0][0]           \n",
      "__________________________________________________________________________________________________\n",
      "conv3_block2_1_conv (Conv2D)    (None, 28, 28, 128)  65664       conv3_block1_out[0][0]           \n",
      "__________________________________________________________________________________________________\n",
      "conv3_block2_1_bn (BatchNormali (None, 28, 28, 128)  512         conv3_block2_1_conv[0][0]        \n",
      "__________________________________________________________________________________________________\n",
      "conv3_block2_1_relu (Activation (None, 28, 28, 128)  0           conv3_block2_1_bn[0][0]          \n",
      "__________________________________________________________________________________________________\n",
      "conv3_block2_2_conv (Conv2D)    (None, 28, 28, 128)  147584      conv3_block2_1_relu[0][0]        \n",
      "__________________________________________________________________________________________________\n",
      "conv3_block2_2_bn (BatchNormali (None, 28, 28, 128)  512         conv3_block2_2_conv[0][0]        \n",
      "__________________________________________________________________________________________________\n",
      "conv3_block2_2_relu (Activation (None, 28, 28, 128)  0           conv3_block2_2_bn[0][0]          \n",
      "__________________________________________________________________________________________________\n",
      "conv3_block2_3_conv (Conv2D)    (None, 28, 28, 512)  66048       conv3_block2_2_relu[0][0]        \n",
      "__________________________________________________________________________________________________\n",
      "conv3_block2_3_bn (BatchNormali (None, 28, 28, 512)  2048        conv3_block2_3_conv[0][0]        \n",
      "__________________________________________________________________________________________________\n",
      "conv3_block2_add (Add)          (None, 28, 28, 512)  0           conv3_block1_out[0][0]           \n",
      "                                                                 conv3_block2_3_bn[0][0]          \n",
      "__________________________________________________________________________________________________\n",
      "conv3_block2_out (Activation)   (None, 28, 28, 512)  0           conv3_block2_add[0][0]           \n",
      "__________________________________________________________________________________________________\n",
      "conv3_block3_1_conv (Conv2D)    (None, 28, 28, 128)  65664       conv3_block2_out[0][0]           \n",
      "__________________________________________________________________________________________________\n",
      "conv3_block3_1_bn (BatchNormali (None, 28, 28, 128)  512         conv3_block3_1_conv[0][0]        \n",
      "__________________________________________________________________________________________________\n",
      "conv3_block3_1_relu (Activation (None, 28, 28, 128)  0           conv3_block3_1_bn[0][0]          \n",
      "__________________________________________________________________________________________________\n",
      "conv3_block3_2_conv (Conv2D)    (None, 28, 28, 128)  147584      conv3_block3_1_relu[0][0]        \n",
      "__________________________________________________________________________________________________\n",
      "conv3_block3_2_bn (BatchNormali (None, 28, 28, 128)  512         conv3_block3_2_conv[0][0]        \n",
      "__________________________________________________________________________________________________\n",
      "conv3_block3_2_relu (Activation (None, 28, 28, 128)  0           conv3_block3_2_bn[0][0]          \n",
      "__________________________________________________________________________________________________\n",
      "conv3_block3_3_conv (Conv2D)    (None, 28, 28, 512)  66048       conv3_block3_2_relu[0][0]        \n",
      "__________________________________________________________________________________________________\n",
      "conv3_block3_3_bn (BatchNormali (None, 28, 28, 512)  2048        conv3_block3_3_conv[0][0]        \n",
      "__________________________________________________________________________________________________\n",
      "conv3_block3_add (Add)          (None, 28, 28, 512)  0           conv3_block2_out[0][0]           \n",
      "                                                                 conv3_block3_3_bn[0][0]          \n",
      "__________________________________________________________________________________________________\n",
      "conv3_block3_out (Activation)   (None, 28, 28, 512)  0           conv3_block3_add[0][0]           \n",
      "__________________________________________________________________________________________________\n",
      "conv3_block4_1_conv (Conv2D)    (None, 28, 28, 128)  65664       conv3_block3_out[0][0]           \n",
      "__________________________________________________________________________________________________\n",
      "conv3_block4_1_bn (BatchNormali (None, 28, 28, 128)  512         conv3_block4_1_conv[0][0]        \n",
      "__________________________________________________________________________________________________\n",
      "conv3_block4_1_relu (Activation (None, 28, 28, 128)  0           conv3_block4_1_bn[0][0]          \n",
      "__________________________________________________________________________________________________\n",
      "conv3_block4_2_conv (Conv2D)    (None, 28, 28, 128)  147584      conv3_block4_1_relu[0][0]        \n",
      "__________________________________________________________________________________________________\n",
      "conv3_block4_2_bn (BatchNormali (None, 28, 28, 128)  512         conv3_block4_2_conv[0][0]        \n",
      "__________________________________________________________________________________________________\n",
      "conv3_block4_2_relu (Activation (None, 28, 28, 128)  0           conv3_block4_2_bn[0][0]          \n",
      "__________________________________________________________________________________________________\n",
      "conv3_block4_3_conv (Conv2D)    (None, 28, 28, 512)  66048       conv3_block4_2_relu[0][0]        \n",
      "__________________________________________________________________________________________________\n",
      "conv3_block4_3_bn (BatchNormali (None, 28, 28, 512)  2048        conv3_block4_3_conv[0][0]        \n",
      "__________________________________________________________________________________________________\n",
      "conv3_block4_add (Add)          (None, 28, 28, 512)  0           conv3_block3_out[0][0]           \n",
      "                                                                 conv3_block4_3_bn[0][0]          \n",
      "__________________________________________________________________________________________________\n",
      "conv3_block4_out (Activation)   (None, 28, 28, 512)  0           conv3_block4_add[0][0]           \n",
      "__________________________________________________________________________________________________\n",
      "conv4_block1_1_conv (Conv2D)    (None, 14, 14, 256)  131328      conv3_block4_out[0][0]           \n",
      "__________________________________________________________________________________________________\n",
      "conv4_block1_1_bn (BatchNormali (None, 14, 14, 256)  1024        conv4_block1_1_conv[0][0]        \n",
      "__________________________________________________________________________________________________\n",
      "conv4_block1_1_relu (Activation (None, 14, 14, 256)  0           conv4_block1_1_bn[0][0]          \n",
      "__________________________________________________________________________________________________\n",
      "conv4_block1_2_conv (Conv2D)    (None, 14, 14, 256)  590080      conv4_block1_1_relu[0][0]        \n",
      "__________________________________________________________________________________________________\n",
      "conv4_block1_2_bn (BatchNormali (None, 14, 14, 256)  1024        conv4_block1_2_conv[0][0]        \n",
      "__________________________________________________________________________________________________\n",
      "conv4_block1_2_relu (Activation (None, 14, 14, 256)  0           conv4_block1_2_bn[0][0]          \n",
      "__________________________________________________________________________________________________\n",
      "conv4_block1_0_conv (Conv2D)    (None, 14, 14, 1024) 525312      conv3_block4_out[0][0]           \n",
      "__________________________________________________________________________________________________\n",
      "conv4_block1_3_conv (Conv2D)    (None, 14, 14, 1024) 263168      conv4_block1_2_relu[0][0]        \n",
      "__________________________________________________________________________________________________\n",
      "conv4_block1_0_bn (BatchNormali (None, 14, 14, 1024) 4096        conv4_block1_0_conv[0][0]        \n",
      "__________________________________________________________________________________________________\n",
      "conv4_block1_3_bn (BatchNormali (None, 14, 14, 1024) 4096        conv4_block1_3_conv[0][0]        \n",
      "__________________________________________________________________________________________________\n",
      "conv4_block1_add (Add)          (None, 14, 14, 1024) 0           conv4_block1_0_bn[0][0]          \n",
      "                                                                 conv4_block1_3_bn[0][0]          \n",
      "__________________________________________________________________________________________________\n",
      "conv4_block1_out (Activation)   (None, 14, 14, 1024) 0           conv4_block1_add[0][0]           \n",
      "__________________________________________________________________________________________________\n",
      "conv4_block2_1_conv (Conv2D)    (None, 14, 14, 256)  262400      conv4_block1_out[0][0]           \n",
      "__________________________________________________________________________________________________\n",
      "conv4_block2_1_bn (BatchNormali (None, 14, 14, 256)  1024        conv4_block2_1_conv[0][0]        \n",
      "__________________________________________________________________________________________________\n",
      "conv4_block2_1_relu (Activation (None, 14, 14, 256)  0           conv4_block2_1_bn[0][0]          \n",
      "__________________________________________________________________________________________________\n",
      "conv4_block2_2_conv (Conv2D)    (None, 14, 14, 256)  590080      conv4_block2_1_relu[0][0]        \n",
      "__________________________________________________________________________________________________\n",
      "conv4_block2_2_bn (BatchNormali (None, 14, 14, 256)  1024        conv4_block2_2_conv[0][0]        \n",
      "__________________________________________________________________________________________________\n",
      "conv4_block2_2_relu (Activation (None, 14, 14, 256)  0           conv4_block2_2_bn[0][0]          \n",
      "__________________________________________________________________________________________________\n",
      "conv4_block2_3_conv (Conv2D)    (None, 14, 14, 1024) 263168      conv4_block2_2_relu[0][0]        \n",
      "__________________________________________________________________________________________________\n",
      "conv4_block2_3_bn (BatchNormali (None, 14, 14, 1024) 4096        conv4_block2_3_conv[0][0]        \n",
      "__________________________________________________________________________________________________\n",
      "conv4_block2_add (Add)          (None, 14, 14, 1024) 0           conv4_block1_out[0][0]           \n",
      "                                                                 conv4_block2_3_bn[0][0]          \n",
      "__________________________________________________________________________________________________\n",
      "conv4_block2_out (Activation)   (None, 14, 14, 1024) 0           conv4_block2_add[0][0]           \n",
      "__________________________________________________________________________________________________\n",
      "conv4_block3_1_conv (Conv2D)    (None, 14, 14, 256)  262400      conv4_block2_out[0][0]           \n",
      "__________________________________________________________________________________________________\n",
      "conv4_block3_1_bn (BatchNormali (None, 14, 14, 256)  1024        conv4_block3_1_conv[0][0]        \n",
      "__________________________________________________________________________________________________\n",
      "conv4_block3_1_relu (Activation (None, 14, 14, 256)  0           conv4_block3_1_bn[0][0]          \n",
      "__________________________________________________________________________________________________\n",
      "conv4_block3_2_conv (Conv2D)    (None, 14, 14, 256)  590080      conv4_block3_1_relu[0][0]        \n",
      "__________________________________________________________________________________________________\n",
      "conv4_block3_2_bn (BatchNormali (None, 14, 14, 256)  1024        conv4_block3_2_conv[0][0]        \n",
      "__________________________________________________________________________________________________\n",
      "conv4_block3_2_relu (Activation (None, 14, 14, 256)  0           conv4_block3_2_bn[0][0]          \n",
      "__________________________________________________________________________________________________\n",
      "conv4_block3_3_conv (Conv2D)    (None, 14, 14, 1024) 263168      conv4_block3_2_relu[0][0]        \n",
      "__________________________________________________________________________________________________\n",
      "conv4_block3_3_bn (BatchNormali (None, 14, 14, 1024) 4096        conv4_block3_3_conv[0][0]        \n",
      "__________________________________________________________________________________________________\n",
      "conv4_block3_add (Add)          (None, 14, 14, 1024) 0           conv4_block2_out[0][0]           \n",
      "                                                                 conv4_block3_3_bn[0][0]          \n",
      "__________________________________________________________________________________________________\n",
      "conv4_block3_out (Activation)   (None, 14, 14, 1024) 0           conv4_block3_add[0][0]           \n",
      "__________________________________________________________________________________________________\n",
      "conv4_block4_1_conv (Conv2D)    (None, 14, 14, 256)  262400      conv4_block3_out[0][0]           \n",
      "__________________________________________________________________________________________________\n",
      "conv4_block4_1_bn (BatchNormali (None, 14, 14, 256)  1024        conv4_block4_1_conv[0][0]        \n",
      "__________________________________________________________________________________________________\n",
      "conv4_block4_1_relu (Activation (None, 14, 14, 256)  0           conv4_block4_1_bn[0][0]          \n",
      "__________________________________________________________________________________________________\n",
      "conv4_block4_2_conv (Conv2D)    (None, 14, 14, 256)  590080      conv4_block4_1_relu[0][0]        \n",
      "__________________________________________________________________________________________________\n",
      "conv4_block4_2_bn (BatchNormali (None, 14, 14, 256)  1024        conv4_block4_2_conv[0][0]        \n",
      "__________________________________________________________________________________________________\n",
      "conv4_block4_2_relu (Activation (None, 14, 14, 256)  0           conv4_block4_2_bn[0][0]          \n",
      "__________________________________________________________________________________________________\n",
      "conv4_block4_3_conv (Conv2D)    (None, 14, 14, 1024) 263168      conv4_block4_2_relu[0][0]        \n",
      "__________________________________________________________________________________________________\n",
      "conv4_block4_3_bn (BatchNormali (None, 14, 14, 1024) 4096        conv4_block4_3_conv[0][0]        \n",
      "__________________________________________________________________________________________________\n",
      "conv4_block4_add (Add)          (None, 14, 14, 1024) 0           conv4_block3_out[0][0]           \n",
      "                                                                 conv4_block4_3_bn[0][0]          \n",
      "__________________________________________________________________________________________________\n",
      "conv4_block4_out (Activation)   (None, 14, 14, 1024) 0           conv4_block4_add[0][0]           \n",
      "__________________________________________________________________________________________________\n",
      "conv4_block5_1_conv (Conv2D)    (None, 14, 14, 256)  262400      conv4_block4_out[0][0]           \n",
      "__________________________________________________________________________________________________\n",
      "conv4_block5_1_bn (BatchNormali (None, 14, 14, 256)  1024        conv4_block5_1_conv[0][0]        \n",
      "__________________________________________________________________________________________________\n",
      "conv4_block5_1_relu (Activation (None, 14, 14, 256)  0           conv4_block5_1_bn[0][0]          \n",
      "__________________________________________________________________________________________________\n",
      "conv4_block5_2_conv (Conv2D)    (None, 14, 14, 256)  590080      conv4_block5_1_relu[0][0]        \n",
      "__________________________________________________________________________________________________\n",
      "conv4_block5_2_bn (BatchNormali (None, 14, 14, 256)  1024        conv4_block5_2_conv[0][0]        \n",
      "__________________________________________________________________________________________________\n",
      "conv4_block5_2_relu (Activation (None, 14, 14, 256)  0           conv4_block5_2_bn[0][0]          \n",
      "__________________________________________________________________________________________________\n",
      "conv4_block5_3_conv (Conv2D)    (None, 14, 14, 1024) 263168      conv4_block5_2_relu[0][0]        \n",
      "__________________________________________________________________________________________________\n",
      "conv4_block5_3_bn (BatchNormali (None, 14, 14, 1024) 4096        conv4_block5_3_conv[0][0]        \n",
      "__________________________________________________________________________________________________\n",
      "conv4_block5_add (Add)          (None, 14, 14, 1024) 0           conv4_block4_out[0][0]           \n",
      "                                                                 conv4_block5_3_bn[0][0]          \n",
      "__________________________________________________________________________________________________\n",
      "conv4_block5_out (Activation)   (None, 14, 14, 1024) 0           conv4_block5_add[0][0]           \n",
      "__________________________________________________________________________________________________\n",
      "conv4_block6_1_conv (Conv2D)    (None, 14, 14, 256)  262400      conv4_block5_out[0][0]           \n",
      "__________________________________________________________________________________________________\n",
      "conv4_block6_1_bn (BatchNormali (None, 14, 14, 256)  1024        conv4_block6_1_conv[0][0]        \n",
      "__________________________________________________________________________________________________\n",
      "conv4_block6_1_relu (Activation (None, 14, 14, 256)  0           conv4_block6_1_bn[0][0]          \n",
      "__________________________________________________________________________________________________\n",
      "conv4_block6_2_conv (Conv2D)    (None, 14, 14, 256)  590080      conv4_block6_1_relu[0][0]        \n",
      "__________________________________________________________________________________________________\n",
      "conv4_block6_2_bn (BatchNormali (None, 14, 14, 256)  1024        conv4_block6_2_conv[0][0]        \n",
      "__________________________________________________________________________________________________\n",
      "conv4_block6_2_relu (Activation (None, 14, 14, 256)  0           conv4_block6_2_bn[0][0]          \n",
      "__________________________________________________________________________________________________\n",
      "conv4_block6_3_conv (Conv2D)    (None, 14, 14, 1024) 263168      conv4_block6_2_relu[0][0]        \n",
      "__________________________________________________________________________________________________\n",
      "conv4_block6_3_bn (BatchNormali (None, 14, 14, 1024) 4096        conv4_block6_3_conv[0][0]        \n",
      "__________________________________________________________________________________________________\n",
      "conv4_block6_add (Add)          (None, 14, 14, 1024) 0           conv4_block5_out[0][0]           \n",
      "                                                                 conv4_block6_3_bn[0][0]          \n",
      "__________________________________________________________________________________________________\n",
      "conv4_block6_out (Activation)   (None, 14, 14, 1024) 0           conv4_block6_add[0][0]           \n",
      "__________________________________________________________________________________________________\n",
      "conv5_block1_1_conv (Conv2D)    (None, 7, 7, 512)    524800      conv4_block6_out[0][0]           \n",
      "__________________________________________________________________________________________________\n",
      "conv5_block1_1_bn (BatchNormali (None, 7, 7, 512)    2048        conv5_block1_1_conv[0][0]        \n",
      "__________________________________________________________________________________________________\n",
      "conv5_block1_1_relu (Activation (None, 7, 7, 512)    0           conv5_block1_1_bn[0][0]          \n",
      "__________________________________________________________________________________________________\n",
      "conv5_block1_2_conv (Conv2D)    (None, 7, 7, 512)    2359808     conv5_block1_1_relu[0][0]        \n",
      "__________________________________________________________________________________________________\n",
      "conv5_block1_2_bn (BatchNormali (None, 7, 7, 512)    2048        conv5_block1_2_conv[0][0]        \n",
      "__________________________________________________________________________________________________\n",
      "conv5_block1_2_relu (Activation (None, 7, 7, 512)    0           conv5_block1_2_bn[0][0]          \n",
      "__________________________________________________________________________________________________\n",
      "conv5_block1_0_conv (Conv2D)    (None, 7, 7, 2048)   2099200     conv4_block6_out[0][0]           \n",
      "__________________________________________________________________________________________________\n",
      "conv5_block1_3_conv (Conv2D)    (None, 7, 7, 2048)   1050624     conv5_block1_2_relu[0][0]        \n",
      "__________________________________________________________________________________________________\n",
      "conv5_block1_0_bn (BatchNormali (None, 7, 7, 2048)   8192        conv5_block1_0_conv[0][0]        \n",
      "__________________________________________________________________________________________________\n",
      "conv5_block1_3_bn (BatchNormali (None, 7, 7, 2048)   8192        conv5_block1_3_conv[0][0]        \n",
      "__________________________________________________________________________________________________\n",
      "conv5_block1_add (Add)          (None, 7, 7, 2048)   0           conv5_block1_0_bn[0][0]          \n",
      "                                                                 conv5_block1_3_bn[0][0]          \n",
      "__________________________________________________________________________________________________\n",
      "conv5_block1_out (Activation)   (None, 7, 7, 2048)   0           conv5_block1_add[0][0]           \n",
      "__________________________________________________________________________________________________\n",
      "conv5_block2_1_conv (Conv2D)    (None, 7, 7, 512)    1049088     conv5_block1_out[0][0]           \n",
      "__________________________________________________________________________________________________\n",
      "conv5_block2_1_bn (BatchNormali (None, 7, 7, 512)    2048        conv5_block2_1_conv[0][0]        \n",
      "__________________________________________________________________________________________________\n",
      "conv5_block2_1_relu (Activation (None, 7, 7, 512)    0           conv5_block2_1_bn[0][0]          \n",
      "__________________________________________________________________________________________________\n",
      "conv5_block2_2_conv (Conv2D)    (None, 7, 7, 512)    2359808     conv5_block2_1_relu[0][0]        \n",
      "__________________________________________________________________________________________________\n",
      "conv5_block2_2_bn (BatchNormali (None, 7, 7, 512)    2048        conv5_block2_2_conv[0][0]        \n",
      "__________________________________________________________________________________________________\n",
      "conv5_block2_2_relu (Activation (None, 7, 7, 512)    0           conv5_block2_2_bn[0][0]          \n",
      "__________________________________________________________________________________________________\n",
      "conv5_block2_3_conv (Conv2D)    (None, 7, 7, 2048)   1050624     conv5_block2_2_relu[0][0]        \n",
      "__________________________________________________________________________________________________\n",
      "conv5_block2_3_bn (BatchNormali (None, 7, 7, 2048)   8192        conv5_block2_3_conv[0][0]        \n",
      "__________________________________________________________________________________________________\n",
      "conv5_block2_add (Add)          (None, 7, 7, 2048)   0           conv5_block1_out[0][0]           \n",
      "                                                                 conv5_block2_3_bn[0][0]          \n",
      "__________________________________________________________________________________________________\n",
      "conv5_block2_out (Activation)   (None, 7, 7, 2048)   0           conv5_block2_add[0][0]           \n",
      "__________________________________________________________________________________________________\n",
      "conv5_block3_1_conv (Conv2D)    (None, 7, 7, 512)    1049088     conv5_block2_out[0][0]           \n",
      "__________________________________________________________________________________________________\n",
      "conv5_block3_1_bn (BatchNormali (None, 7, 7, 512)    2048        conv5_block3_1_conv[0][0]        \n",
      "__________________________________________________________________________________________________\n",
      "conv5_block3_1_relu (Activation (None, 7, 7, 512)    0           conv5_block3_1_bn[0][0]          \n",
      "__________________________________________________________________________________________________\n",
      "conv5_block3_2_conv (Conv2D)    (None, 7, 7, 512)    2359808     conv5_block3_1_relu[0][0]        \n",
      "__________________________________________________________________________________________________\n",
      "conv5_block3_2_bn (BatchNormali (None, 7, 7, 512)    2048        conv5_block3_2_conv[0][0]        \n",
      "__________________________________________________________________________________________________\n",
      "conv5_block3_2_relu (Activation (None, 7, 7, 512)    0           conv5_block3_2_bn[0][0]          \n",
      "__________________________________________________________________________________________________\n",
      "conv5_block3_3_conv (Conv2D)    (None, 7, 7, 2048)   1050624     conv5_block3_2_relu[0][0]        \n",
      "__________________________________________________________________________________________________\n",
      "conv5_block3_3_bn (BatchNormali (None, 7, 7, 2048)   8192        conv5_block3_3_conv[0][0]        \n",
      "__________________________________________________________________________________________________\n",
      "conv5_block3_add (Add)          (None, 7, 7, 2048)   0           conv5_block2_out[0][0]           \n",
      "                                                                 conv5_block3_3_bn[0][0]          \n",
      "__________________________________________________________________________________________________\n",
      "conv5_block3_out (Activation)   (None, 7, 7, 2048)   0           conv5_block3_add[0][0]           \n",
      "==================================================================================================\n",
      "Total params: 23,587,712\n",
      "Trainable params: 23,534,592\n",
      "Non-trainable params: 53,120\n",
      "__________________________________________________________________________________________________\n"
     ]
    }
   ],
   "source": [
    "base_model.summary()"
   ]
  },
  {
   "cell_type": "code",
   "execution_count": 9,
   "metadata": {
    "colab": {
     "base_uri": "https://localhost:8080/",
     "height": 1000
    },
    "colab_type": "code",
    "id": "uPTxW0Huezg4",
    "outputId": "8cba049b-a0ab-4ea8-e051-e2b2506988cc"
   },
   "outputs": [],
   "source": [
    "model = tf.keras.Sequential([\n",
    "    base_model,\n",
    "    tf.keras.layers.GlobalAveragePooling2D(),\n",
    "    tf.keras.layers.Dense(192, activation=None),\n",
    "    tf.keras.layers.BatchNormalization(),\n",
    "    tf.keras.layers.ReLU(),\n",
    "    tf.keras.layers.Dense(6, activation='softmax'),\n",
    "])"
   ]
  },
  {
   "cell_type": "code",
   "execution_count": 10,
   "metadata": {},
   "outputs": [],
   "source": [
    "base_learning_rate = 0.0001\n",
    "model.compile(optimizer=tf.keras.optimizers.Adam(lr=base_learning_rate),\n",
    "              loss='sparse_categorical_crossentropy',\n",
    "              metrics=['accuracy'])"
   ]
  },
  {
   "cell_type": "code",
   "execution_count": 12,
   "metadata": {},
   "outputs": [],
   "source": [
    "# from sklearn.utils import class_weight\n",
    "\n",
    "# class_weights = class_weight.compute_class_weight('balanced',\n",
    "#                                                  np.unique(y_train),\n",
    "#                                                  y_train)\n",
    "# class_weights"
   ]
  },
  {
   "cell_type": "code",
   "execution_count": 13,
   "metadata": {},
   "outputs": [],
   "source": [
    "# class_weight = {}\n",
    "\n",
    "# for i in range(6):\n",
    "#     class_weight[i] = class_weights[i]\n",
    "    \n",
    "# class_weight"
   ]
  },
  {
   "cell_type": "code",
   "execution_count": 14,
   "metadata": {},
   "outputs": [],
   "source": [
    "# class_weight = [np.sqrt(np.sqrt(i)) for i in class_weights]\n",
    "# class_weight"
   ]
  },
  {
   "cell_type": "code",
   "execution_count": 11,
   "metadata": {},
   "outputs": [
    {
     "name": "stdout",
     "output_type": "stream",
     "text": [
      "Model: \"sequential\"\n",
      "_________________________________________________________________\n",
      "Layer (type)                 Output Shape              Param #   \n",
      "=================================================================\n",
      "resnet50 (Model)             (None, 7, 7, 2048)        23587712  \n",
      "_________________________________________________________________\n",
      "global_average_pooling2d (Gl (None, 2048)              0         \n",
      "_________________________________________________________________\n",
      "dense (Dense)                (None, 192)               393408    \n",
      "_________________________________________________________________\n",
      "batch_normalization (BatchNo (None, 192)               768       \n",
      "_________________________________________________________________\n",
      "re_lu (ReLU)                 (None, 192)               0         \n",
      "_________________________________________________________________\n",
      "dense_1 (Dense)              (None, 6)                 1158      \n",
      "=================================================================\n",
      "Total params: 23,983,046\n",
      "Trainable params: 23,929,542\n",
      "Non-trainable params: 53,504\n",
      "_________________________________________________________________\n"
     ]
    }
   ],
   "source": [
    "model.summary()"
   ]
  },
  {
   "cell_type": "code",
   "execution_count": 12,
   "metadata": {},
   "outputs": [
    {
     "data": {
      "text/plain": [
       "[<tf.Variable 'conv1_conv/kernel:0' shape=(7, 7, 3, 64) dtype=float32>,\n",
       " <tf.Variable 'conv1_conv/bias:0' shape=(64,) dtype=float32>,\n",
       " <tf.Variable 'conv1_bn/gamma:0' shape=(64,) dtype=float32>,\n",
       " <tf.Variable 'conv1_bn/beta:0' shape=(64,) dtype=float32>,\n",
       " <tf.Variable 'conv2_block1_1_conv/kernel:0' shape=(1, 1, 64, 64) dtype=float32>,\n",
       " <tf.Variable 'conv2_block1_1_conv/bias:0' shape=(64,) dtype=float32>,\n",
       " <tf.Variable 'conv2_block1_1_bn/gamma:0' shape=(64,) dtype=float32>,\n",
       " <tf.Variable 'conv2_block1_1_bn/beta:0' shape=(64,) dtype=float32>,\n",
       " <tf.Variable 'conv2_block1_2_conv/kernel:0' shape=(3, 3, 64, 64) dtype=float32>,\n",
       " <tf.Variable 'conv2_block1_2_conv/bias:0' shape=(64,) dtype=float32>,\n",
       " <tf.Variable 'conv2_block1_2_bn/gamma:0' shape=(64,) dtype=float32>,\n",
       " <tf.Variable 'conv2_block1_2_bn/beta:0' shape=(64,) dtype=float32>,\n",
       " <tf.Variable 'conv2_block1_0_conv/kernel:0' shape=(1, 1, 64, 256) dtype=float32>,\n",
       " <tf.Variable 'conv2_block1_0_conv/bias:0' shape=(256,) dtype=float32>,\n",
       " <tf.Variable 'conv2_block1_3_conv/kernel:0' shape=(1, 1, 64, 256) dtype=float32>,\n",
       " <tf.Variable 'conv2_block1_3_conv/bias:0' shape=(256,) dtype=float32>,\n",
       " <tf.Variable 'conv2_block1_0_bn/gamma:0' shape=(256,) dtype=float32>,\n",
       " <tf.Variable 'conv2_block1_0_bn/beta:0' shape=(256,) dtype=float32>,\n",
       " <tf.Variable 'conv2_block1_3_bn/gamma:0' shape=(256,) dtype=float32>,\n",
       " <tf.Variable 'conv2_block1_3_bn/beta:0' shape=(256,) dtype=float32>,\n",
       " <tf.Variable 'conv2_block2_1_conv/kernel:0' shape=(1, 1, 256, 64) dtype=float32>,\n",
       " <tf.Variable 'conv2_block2_1_conv/bias:0' shape=(64,) dtype=float32>,\n",
       " <tf.Variable 'conv2_block2_1_bn/gamma:0' shape=(64,) dtype=float32>,\n",
       " <tf.Variable 'conv2_block2_1_bn/beta:0' shape=(64,) dtype=float32>,\n",
       " <tf.Variable 'conv2_block2_2_conv/kernel:0' shape=(3, 3, 64, 64) dtype=float32>,\n",
       " <tf.Variable 'conv2_block2_2_conv/bias:0' shape=(64,) dtype=float32>,\n",
       " <tf.Variable 'conv2_block2_2_bn/gamma:0' shape=(64,) dtype=float32>,\n",
       " <tf.Variable 'conv2_block2_2_bn/beta:0' shape=(64,) dtype=float32>,\n",
       " <tf.Variable 'conv2_block2_3_conv/kernel:0' shape=(1, 1, 64, 256) dtype=float32>,\n",
       " <tf.Variable 'conv2_block2_3_conv/bias:0' shape=(256,) dtype=float32>,\n",
       " <tf.Variable 'conv2_block2_3_bn/gamma:0' shape=(256,) dtype=float32>,\n",
       " <tf.Variable 'conv2_block2_3_bn/beta:0' shape=(256,) dtype=float32>,\n",
       " <tf.Variable 'conv2_block3_1_conv/kernel:0' shape=(1, 1, 256, 64) dtype=float32>,\n",
       " <tf.Variable 'conv2_block3_1_conv/bias:0' shape=(64,) dtype=float32>,\n",
       " <tf.Variable 'conv2_block3_1_bn/gamma:0' shape=(64,) dtype=float32>,\n",
       " <tf.Variable 'conv2_block3_1_bn/beta:0' shape=(64,) dtype=float32>,\n",
       " <tf.Variable 'conv2_block3_2_conv/kernel:0' shape=(3, 3, 64, 64) dtype=float32>,\n",
       " <tf.Variable 'conv2_block3_2_conv/bias:0' shape=(64,) dtype=float32>,\n",
       " <tf.Variable 'conv2_block3_2_bn/gamma:0' shape=(64,) dtype=float32>,\n",
       " <tf.Variable 'conv2_block3_2_bn/beta:0' shape=(64,) dtype=float32>,\n",
       " <tf.Variable 'conv2_block3_3_conv/kernel:0' shape=(1, 1, 64, 256) dtype=float32>,\n",
       " <tf.Variable 'conv2_block3_3_conv/bias:0' shape=(256,) dtype=float32>,\n",
       " <tf.Variable 'conv2_block3_3_bn/gamma:0' shape=(256,) dtype=float32>,\n",
       " <tf.Variable 'conv2_block3_3_bn/beta:0' shape=(256,) dtype=float32>,\n",
       " <tf.Variable 'conv3_block1_1_conv/kernel:0' shape=(1, 1, 256, 128) dtype=float32>,\n",
       " <tf.Variable 'conv3_block1_1_conv/bias:0' shape=(128,) dtype=float32>,\n",
       " <tf.Variable 'conv3_block1_1_bn/gamma:0' shape=(128,) dtype=float32>,\n",
       " <tf.Variable 'conv3_block1_1_bn/beta:0' shape=(128,) dtype=float32>,\n",
       " <tf.Variable 'conv3_block1_2_conv/kernel:0' shape=(3, 3, 128, 128) dtype=float32>,\n",
       " <tf.Variable 'conv3_block1_2_conv/bias:0' shape=(128,) dtype=float32>,\n",
       " <tf.Variable 'conv3_block1_2_bn/gamma:0' shape=(128,) dtype=float32>,\n",
       " <tf.Variable 'conv3_block1_2_bn/beta:0' shape=(128,) dtype=float32>,\n",
       " <tf.Variable 'conv3_block1_0_conv/kernel:0' shape=(1, 1, 256, 512) dtype=float32>,\n",
       " <tf.Variable 'conv3_block1_0_conv/bias:0' shape=(512,) dtype=float32>,\n",
       " <tf.Variable 'conv3_block1_3_conv/kernel:0' shape=(1, 1, 128, 512) dtype=float32>,\n",
       " <tf.Variable 'conv3_block1_3_conv/bias:0' shape=(512,) dtype=float32>,\n",
       " <tf.Variable 'conv3_block1_0_bn/gamma:0' shape=(512,) dtype=float32>,\n",
       " <tf.Variable 'conv3_block1_0_bn/beta:0' shape=(512,) dtype=float32>,\n",
       " <tf.Variable 'conv3_block1_3_bn/gamma:0' shape=(512,) dtype=float32>,\n",
       " <tf.Variable 'conv3_block1_3_bn/beta:0' shape=(512,) dtype=float32>,\n",
       " <tf.Variable 'conv3_block2_1_conv/kernel:0' shape=(1, 1, 512, 128) dtype=float32>,\n",
       " <tf.Variable 'conv3_block2_1_conv/bias:0' shape=(128,) dtype=float32>,\n",
       " <tf.Variable 'conv3_block2_1_bn/gamma:0' shape=(128,) dtype=float32>,\n",
       " <tf.Variable 'conv3_block2_1_bn/beta:0' shape=(128,) dtype=float32>,\n",
       " <tf.Variable 'conv3_block2_2_conv/kernel:0' shape=(3, 3, 128, 128) dtype=float32>,\n",
       " <tf.Variable 'conv3_block2_2_conv/bias:0' shape=(128,) dtype=float32>,\n",
       " <tf.Variable 'conv3_block2_2_bn/gamma:0' shape=(128,) dtype=float32>,\n",
       " <tf.Variable 'conv3_block2_2_bn/beta:0' shape=(128,) dtype=float32>,\n",
       " <tf.Variable 'conv3_block2_3_conv/kernel:0' shape=(1, 1, 128, 512) dtype=float32>,\n",
       " <tf.Variable 'conv3_block2_3_conv/bias:0' shape=(512,) dtype=float32>,\n",
       " <tf.Variable 'conv3_block2_3_bn/gamma:0' shape=(512,) dtype=float32>,\n",
       " <tf.Variable 'conv3_block2_3_bn/beta:0' shape=(512,) dtype=float32>,\n",
       " <tf.Variable 'conv3_block3_1_conv/kernel:0' shape=(1, 1, 512, 128) dtype=float32>,\n",
       " <tf.Variable 'conv3_block3_1_conv/bias:0' shape=(128,) dtype=float32>,\n",
       " <tf.Variable 'conv3_block3_1_bn/gamma:0' shape=(128,) dtype=float32>,\n",
       " <tf.Variable 'conv3_block3_1_bn/beta:0' shape=(128,) dtype=float32>,\n",
       " <tf.Variable 'conv3_block3_2_conv/kernel:0' shape=(3, 3, 128, 128) dtype=float32>,\n",
       " <tf.Variable 'conv3_block3_2_conv/bias:0' shape=(128,) dtype=float32>,\n",
       " <tf.Variable 'conv3_block3_2_bn/gamma:0' shape=(128,) dtype=float32>,\n",
       " <tf.Variable 'conv3_block3_2_bn/beta:0' shape=(128,) dtype=float32>,\n",
       " <tf.Variable 'conv3_block3_3_conv/kernel:0' shape=(1, 1, 128, 512) dtype=float32>,\n",
       " <tf.Variable 'conv3_block3_3_conv/bias:0' shape=(512,) dtype=float32>,\n",
       " <tf.Variable 'conv3_block3_3_bn/gamma:0' shape=(512,) dtype=float32>,\n",
       " <tf.Variable 'conv3_block3_3_bn/beta:0' shape=(512,) dtype=float32>,\n",
       " <tf.Variable 'conv3_block4_1_conv/kernel:0' shape=(1, 1, 512, 128) dtype=float32>,\n",
       " <tf.Variable 'conv3_block4_1_conv/bias:0' shape=(128,) dtype=float32>,\n",
       " <tf.Variable 'conv3_block4_1_bn/gamma:0' shape=(128,) dtype=float32>,\n",
       " <tf.Variable 'conv3_block4_1_bn/beta:0' shape=(128,) dtype=float32>,\n",
       " <tf.Variable 'conv3_block4_2_conv/kernel:0' shape=(3, 3, 128, 128) dtype=float32>,\n",
       " <tf.Variable 'conv3_block4_2_conv/bias:0' shape=(128,) dtype=float32>,\n",
       " <tf.Variable 'conv3_block4_2_bn/gamma:0' shape=(128,) dtype=float32>,\n",
       " <tf.Variable 'conv3_block4_2_bn/beta:0' shape=(128,) dtype=float32>,\n",
       " <tf.Variable 'conv3_block4_3_conv/kernel:0' shape=(1, 1, 128, 512) dtype=float32>,\n",
       " <tf.Variable 'conv3_block4_3_conv/bias:0' shape=(512,) dtype=float32>,\n",
       " <tf.Variable 'conv3_block4_3_bn/gamma:0' shape=(512,) dtype=float32>,\n",
       " <tf.Variable 'conv3_block4_3_bn/beta:0' shape=(512,) dtype=float32>,\n",
       " <tf.Variable 'conv4_block1_1_conv/kernel:0' shape=(1, 1, 512, 256) dtype=float32>,\n",
       " <tf.Variable 'conv4_block1_1_conv/bias:0' shape=(256,) dtype=float32>,\n",
       " <tf.Variable 'conv4_block1_1_bn/gamma:0' shape=(256,) dtype=float32>,\n",
       " <tf.Variable 'conv4_block1_1_bn/beta:0' shape=(256,) dtype=float32>,\n",
       " <tf.Variable 'conv4_block1_2_conv/kernel:0' shape=(3, 3, 256, 256) dtype=float32>,\n",
       " <tf.Variable 'conv4_block1_2_conv/bias:0' shape=(256,) dtype=float32>,\n",
       " <tf.Variable 'conv4_block1_2_bn/gamma:0' shape=(256,) dtype=float32>,\n",
       " <tf.Variable 'conv4_block1_2_bn/beta:0' shape=(256,) dtype=float32>,\n",
       " <tf.Variable 'conv4_block1_0_conv/kernel:0' shape=(1, 1, 512, 1024) dtype=float32>,\n",
       " <tf.Variable 'conv4_block1_0_conv/bias:0' shape=(1024,) dtype=float32>,\n",
       " <tf.Variable 'conv4_block1_3_conv/kernel:0' shape=(1, 1, 256, 1024) dtype=float32>,\n",
       " <tf.Variable 'conv4_block1_3_conv/bias:0' shape=(1024,) dtype=float32>,\n",
       " <tf.Variable 'conv4_block1_0_bn/gamma:0' shape=(1024,) dtype=float32>,\n",
       " <tf.Variable 'conv4_block1_0_bn/beta:0' shape=(1024,) dtype=float32>,\n",
       " <tf.Variable 'conv4_block1_3_bn/gamma:0' shape=(1024,) dtype=float32>,\n",
       " <tf.Variable 'conv4_block1_3_bn/beta:0' shape=(1024,) dtype=float32>,\n",
       " <tf.Variable 'conv4_block2_1_conv/kernel:0' shape=(1, 1, 1024, 256) dtype=float32>,\n",
       " <tf.Variable 'conv4_block2_1_conv/bias:0' shape=(256,) dtype=float32>,\n",
       " <tf.Variable 'conv4_block2_1_bn/gamma:0' shape=(256,) dtype=float32>,\n",
       " <tf.Variable 'conv4_block2_1_bn/beta:0' shape=(256,) dtype=float32>,\n",
       " <tf.Variable 'conv4_block2_2_conv/kernel:0' shape=(3, 3, 256, 256) dtype=float32>,\n",
       " <tf.Variable 'conv4_block2_2_conv/bias:0' shape=(256,) dtype=float32>,\n",
       " <tf.Variable 'conv4_block2_2_bn/gamma:0' shape=(256,) dtype=float32>,\n",
       " <tf.Variable 'conv4_block2_2_bn/beta:0' shape=(256,) dtype=float32>,\n",
       " <tf.Variable 'conv4_block2_3_conv/kernel:0' shape=(1, 1, 256, 1024) dtype=float32>,\n",
       " <tf.Variable 'conv4_block2_3_conv/bias:0' shape=(1024,) dtype=float32>,\n",
       " <tf.Variable 'conv4_block2_3_bn/gamma:0' shape=(1024,) dtype=float32>,\n",
       " <tf.Variable 'conv4_block2_3_bn/beta:0' shape=(1024,) dtype=float32>,\n",
       " <tf.Variable 'conv4_block3_1_conv/kernel:0' shape=(1, 1, 1024, 256) dtype=float32>,\n",
       " <tf.Variable 'conv4_block3_1_conv/bias:0' shape=(256,) dtype=float32>,\n",
       " <tf.Variable 'conv4_block3_1_bn/gamma:0' shape=(256,) dtype=float32>,\n",
       " <tf.Variable 'conv4_block3_1_bn/beta:0' shape=(256,) dtype=float32>,\n",
       " <tf.Variable 'conv4_block3_2_conv/kernel:0' shape=(3, 3, 256, 256) dtype=float32>,\n",
       " <tf.Variable 'conv4_block3_2_conv/bias:0' shape=(256,) dtype=float32>,\n",
       " <tf.Variable 'conv4_block3_2_bn/gamma:0' shape=(256,) dtype=float32>,\n",
       " <tf.Variable 'conv4_block3_2_bn/beta:0' shape=(256,) dtype=float32>,\n",
       " <tf.Variable 'conv4_block3_3_conv/kernel:0' shape=(1, 1, 256, 1024) dtype=float32>,\n",
       " <tf.Variable 'conv4_block3_3_conv/bias:0' shape=(1024,) dtype=float32>,\n",
       " <tf.Variable 'conv4_block3_3_bn/gamma:0' shape=(1024,) dtype=float32>,\n",
       " <tf.Variable 'conv4_block3_3_bn/beta:0' shape=(1024,) dtype=float32>,\n",
       " <tf.Variable 'conv4_block4_1_conv/kernel:0' shape=(1, 1, 1024, 256) dtype=float32>,\n",
       " <tf.Variable 'conv4_block4_1_conv/bias:0' shape=(256,) dtype=float32>,\n",
       " <tf.Variable 'conv4_block4_1_bn/gamma:0' shape=(256,) dtype=float32>,\n",
       " <tf.Variable 'conv4_block4_1_bn/beta:0' shape=(256,) dtype=float32>,\n",
       " <tf.Variable 'conv4_block4_2_conv/kernel:0' shape=(3, 3, 256, 256) dtype=float32>,\n",
       " <tf.Variable 'conv4_block4_2_conv/bias:0' shape=(256,) dtype=float32>,\n",
       " <tf.Variable 'conv4_block4_2_bn/gamma:0' shape=(256,) dtype=float32>,\n",
       " <tf.Variable 'conv4_block4_2_bn/beta:0' shape=(256,) dtype=float32>,\n",
       " <tf.Variable 'conv4_block4_3_conv/kernel:0' shape=(1, 1, 256, 1024) dtype=float32>,\n",
       " <tf.Variable 'conv4_block4_3_conv/bias:0' shape=(1024,) dtype=float32>,\n",
       " <tf.Variable 'conv4_block4_3_bn/gamma:0' shape=(1024,) dtype=float32>,\n",
       " <tf.Variable 'conv4_block4_3_bn/beta:0' shape=(1024,) dtype=float32>,\n",
       " <tf.Variable 'conv4_block5_1_conv/kernel:0' shape=(1, 1, 1024, 256) dtype=float32>,\n",
       " <tf.Variable 'conv4_block5_1_conv/bias:0' shape=(256,) dtype=float32>,\n",
       " <tf.Variable 'conv4_block5_1_bn/gamma:0' shape=(256,) dtype=float32>,\n",
       " <tf.Variable 'conv4_block5_1_bn/beta:0' shape=(256,) dtype=float32>,\n",
       " <tf.Variable 'conv4_block5_2_conv/kernel:0' shape=(3, 3, 256, 256) dtype=float32>,\n",
       " <tf.Variable 'conv4_block5_2_conv/bias:0' shape=(256,) dtype=float32>,\n",
       " <tf.Variable 'conv4_block5_2_bn/gamma:0' shape=(256,) dtype=float32>,\n",
       " <tf.Variable 'conv4_block5_2_bn/beta:0' shape=(256,) dtype=float32>,\n",
       " <tf.Variable 'conv4_block5_3_conv/kernel:0' shape=(1, 1, 256, 1024) dtype=float32>,\n",
       " <tf.Variable 'conv4_block5_3_conv/bias:0' shape=(1024,) dtype=float32>,\n",
       " <tf.Variable 'conv4_block5_3_bn/gamma:0' shape=(1024,) dtype=float32>,\n",
       " <tf.Variable 'conv4_block5_3_bn/beta:0' shape=(1024,) dtype=float32>,\n",
       " <tf.Variable 'conv4_block6_1_conv/kernel:0' shape=(1, 1, 1024, 256) dtype=float32>,\n",
       " <tf.Variable 'conv4_block6_1_conv/bias:0' shape=(256,) dtype=float32>,\n",
       " <tf.Variable 'conv4_block6_1_bn/gamma:0' shape=(256,) dtype=float32>,\n",
       " <tf.Variable 'conv4_block6_1_bn/beta:0' shape=(256,) dtype=float32>,\n",
       " <tf.Variable 'conv4_block6_2_conv/kernel:0' shape=(3, 3, 256, 256) dtype=float32>,\n",
       " <tf.Variable 'conv4_block6_2_conv/bias:0' shape=(256,) dtype=float32>,\n",
       " <tf.Variable 'conv4_block6_2_bn/gamma:0' shape=(256,) dtype=float32>,\n",
       " <tf.Variable 'conv4_block6_2_bn/beta:0' shape=(256,) dtype=float32>,\n",
       " <tf.Variable 'conv4_block6_3_conv/kernel:0' shape=(1, 1, 256, 1024) dtype=float32>,\n",
       " <tf.Variable 'conv4_block6_3_conv/bias:0' shape=(1024,) dtype=float32>,\n",
       " <tf.Variable 'conv4_block6_3_bn/gamma:0' shape=(1024,) dtype=float32>,\n",
       " <tf.Variable 'conv4_block6_3_bn/beta:0' shape=(1024,) dtype=float32>,\n",
       " <tf.Variable 'conv5_block1_1_conv/kernel:0' shape=(1, 1, 1024, 512) dtype=float32>,\n",
       " <tf.Variable 'conv5_block1_1_conv/bias:0' shape=(512,) dtype=float32>,\n",
       " <tf.Variable 'conv5_block1_1_bn/gamma:0' shape=(512,) dtype=float32>,\n",
       " <tf.Variable 'conv5_block1_1_bn/beta:0' shape=(512,) dtype=float32>,\n",
       " <tf.Variable 'conv5_block1_2_conv/kernel:0' shape=(3, 3, 512, 512) dtype=float32>,\n",
       " <tf.Variable 'conv5_block1_2_conv/bias:0' shape=(512,) dtype=float32>,\n",
       " <tf.Variable 'conv5_block1_2_bn/gamma:0' shape=(512,) dtype=float32>,\n",
       " <tf.Variable 'conv5_block1_2_bn/beta:0' shape=(512,) dtype=float32>,\n",
       " <tf.Variable 'conv5_block1_0_conv/kernel:0' shape=(1, 1, 1024, 2048) dtype=float32>,\n",
       " <tf.Variable 'conv5_block1_0_conv/bias:0' shape=(2048,) dtype=float32>,\n",
       " <tf.Variable 'conv5_block1_3_conv/kernel:0' shape=(1, 1, 512, 2048) dtype=float32>,\n",
       " <tf.Variable 'conv5_block1_3_conv/bias:0' shape=(2048,) dtype=float32>,\n",
       " <tf.Variable 'conv5_block1_0_bn/gamma:0' shape=(2048,) dtype=float32>,\n",
       " <tf.Variable 'conv5_block1_0_bn/beta:0' shape=(2048,) dtype=float32>,\n",
       " <tf.Variable 'conv5_block1_3_bn/gamma:0' shape=(2048,) dtype=float32>,\n",
       " <tf.Variable 'conv5_block1_3_bn/beta:0' shape=(2048,) dtype=float32>,\n",
       " <tf.Variable 'conv5_block2_1_conv/kernel:0' shape=(1, 1, 2048, 512) dtype=float32>,\n",
       " <tf.Variable 'conv5_block2_1_conv/bias:0' shape=(512,) dtype=float32>,\n",
       " <tf.Variable 'conv5_block2_1_bn/gamma:0' shape=(512,) dtype=float32>,\n",
       " <tf.Variable 'conv5_block2_1_bn/beta:0' shape=(512,) dtype=float32>,\n",
       " <tf.Variable 'conv5_block2_2_conv/kernel:0' shape=(3, 3, 512, 512) dtype=float32>,\n",
       " <tf.Variable 'conv5_block2_2_conv/bias:0' shape=(512,) dtype=float32>,\n",
       " <tf.Variable 'conv5_block2_2_bn/gamma:0' shape=(512,) dtype=float32>,\n",
       " <tf.Variable 'conv5_block2_2_bn/beta:0' shape=(512,) dtype=float32>,\n",
       " <tf.Variable 'conv5_block2_3_conv/kernel:0' shape=(1, 1, 512, 2048) dtype=float32>,\n",
       " <tf.Variable 'conv5_block2_3_conv/bias:0' shape=(2048,) dtype=float32>,\n",
       " <tf.Variable 'conv5_block2_3_bn/gamma:0' shape=(2048,) dtype=float32>,\n",
       " <tf.Variable 'conv5_block2_3_bn/beta:0' shape=(2048,) dtype=float32>,\n",
       " <tf.Variable 'conv5_block3_1_conv/kernel:0' shape=(1, 1, 2048, 512) dtype=float32>,\n",
       " <tf.Variable 'conv5_block3_1_conv/bias:0' shape=(512,) dtype=float32>,\n",
       " <tf.Variable 'conv5_block3_1_bn/gamma:0' shape=(512,) dtype=float32>,\n",
       " <tf.Variable 'conv5_block3_1_bn/beta:0' shape=(512,) dtype=float32>,\n",
       " <tf.Variable 'conv5_block3_2_conv/kernel:0' shape=(3, 3, 512, 512) dtype=float32>,\n",
       " <tf.Variable 'conv5_block3_2_conv/bias:0' shape=(512,) dtype=float32>,\n",
       " <tf.Variable 'conv5_block3_2_bn/gamma:0' shape=(512,) dtype=float32>,\n",
       " <tf.Variable 'conv5_block3_2_bn/beta:0' shape=(512,) dtype=float32>,\n",
       " <tf.Variable 'conv5_block3_3_conv/kernel:0' shape=(1, 1, 512, 2048) dtype=float32>,\n",
       " <tf.Variable 'conv5_block3_3_conv/bias:0' shape=(2048,) dtype=float32>,\n",
       " <tf.Variable 'conv5_block3_3_bn/gamma:0' shape=(2048,) dtype=float32>,\n",
       " <tf.Variable 'conv5_block3_3_bn/beta:0' shape=(2048,) dtype=float32>,\n",
       " <tf.Variable 'dense/kernel:0' shape=(2048, 192) dtype=float32>,\n",
       " <tf.Variable 'dense/bias:0' shape=(192,) dtype=float32>,\n",
       " <tf.Variable 'batch_normalization/gamma:0' shape=(192,) dtype=float32>,\n",
       " <tf.Variable 'batch_normalization/beta:0' shape=(192,) dtype=float32>,\n",
       " <tf.Variable 'dense_1/kernel:0' shape=(192, 6) dtype=float32>,\n",
       " <tf.Variable 'dense_1/bias:0' shape=(6,) dtype=float32>]"
      ]
     },
     "execution_count": 12,
     "metadata": {},
     "output_type": "execute_result"
    }
   ],
   "source": [
    "model.trainable_variables"
   ]
  },
  {
   "cell_type": "code",
   "execution_count": 13,
   "metadata": {},
   "outputs": [],
   "source": [
    "callback = [keras.callbacks.EarlyStopping(monitor='val_loss', min_delta=0, patience=10, verbose=0, mode='auto', baseline=None, restore_best_weights=False)]"
   ]
  },
  {
   "cell_type": "code",
   "execution_count": 14,
   "metadata": {},
   "outputs": [
    {
     "name": "stdout",
     "output_type": "stream",
     "text": [
      "Train on 13444 samples, validate on 1662 samples\n",
      "Epoch 1/20\n",
      "13444/13444 [==============================] - 96s 7ms/sample - loss: 0.2045 - acc: 0.9401 - val_loss: 0.1128 - val_acc: 0.9681\n",
      "Epoch 2/20\n",
      "13444/13444 [==============================] - 86s 6ms/sample - loss: 0.0381 - acc: 0.9914 - val_loss: 0.0522 - val_acc: 0.9826\n",
      "Epoch 3/20\n",
      "13444/13444 [==============================] - 86s 6ms/sample - loss: 0.0223 - acc: 0.9960 - val_loss: 0.0409 - val_acc: 0.9874\n",
      "Epoch 4/20\n",
      "13444/13444 [==============================] - 86s 6ms/sample - loss: 0.0161 - acc: 0.9964 - val_loss: 0.0590 - val_acc: 0.9886\n",
      "Epoch 5/20\n",
      "13444/13444 [==============================] - 86s 6ms/sample - loss: 0.0068 - acc: 0.9990 - val_loss: 0.0406 - val_acc: 0.9880\n",
      "Epoch 6/20\n",
      "13444/13444 [==============================] - 86s 6ms/sample - loss: 0.0116 - acc: 0.9975 - val_loss: 0.0582 - val_acc: 0.9832\n",
      "Epoch 7/20\n",
      "13444/13444 [==============================] - 86s 6ms/sample - loss: 0.0437 - acc: 0.9871 - val_loss: 0.0720 - val_acc: 0.9795\n",
      "Epoch 8/20\n",
      "13444/13444 [==============================] - 86s 6ms/sample - loss: 0.0339 - acc: 0.9901 - val_loss: 0.0702 - val_acc: 0.9765\n",
      "Epoch 9/20\n",
      "13444/13444 [==============================] - 86s 6ms/sample - loss: 0.0238 - acc: 0.9943 - val_loss: 0.0330 - val_acc: 0.9922\n",
      "Epoch 10/20\n",
      "13444/13444 [==============================] - 86s 6ms/sample - loss: 0.0104 - acc: 0.9977 - val_loss: 0.0382 - val_acc: 0.9910\n",
      "Epoch 11/20\n",
      "13444/13444 [==============================] - 86s 6ms/sample - loss: 0.0034 - acc: 0.9996 - val_loss: 0.0306 - val_acc: 0.9934\n",
      "Epoch 12/20\n",
      "13444/13444 [==============================] - 86s 6ms/sample - loss: 0.0218 - acc: 0.9940 - val_loss: 0.0470 - val_acc: 0.9856\n",
      "Epoch 13/20\n",
      "13444/13444 [==============================] - 86s 6ms/sample - loss: 0.0271 - acc: 0.9929 - val_loss: 0.0482 - val_acc: 0.9850\n",
      "Epoch 14/20\n",
      "13444/13444 [==============================] - 86s 6ms/sample - loss: 0.0045 - acc: 0.9993 - val_loss: 0.0340 - val_acc: 0.9910\n",
      "Epoch 15/20\n",
      "13444/13444 [==============================] - 86s 6ms/sample - loss: 0.0108 - acc: 0.9981 - val_loss: 0.0331 - val_acc: 0.9910\n",
      "Epoch 16/20\n",
      "13444/13444 [==============================] - 86s 6ms/sample - loss: 0.0030 - acc: 0.9993 - val_loss: 0.0549 - val_acc: 0.9838\n",
      "Epoch 17/20\n",
      "13444/13444 [==============================] - 86s 6ms/sample - loss: 0.0111 - acc: 0.9971 - val_loss: 0.0569 - val_acc: 0.9844\n",
      "Epoch 18/20\n",
      "13444/13444 [==============================] - 86s 6ms/sample - loss: 0.0170 - acc: 0.9952 - val_loss: 0.0360 - val_acc: 0.9880\n",
      "Epoch 19/20\n",
      "13444/13444 [==============================] - 86s 6ms/sample - loss: 0.0034 - acc: 0.9993 - val_loss: 0.0314 - val_acc: 0.9916\n",
      "Epoch 20/20\n",
      "13444/13444 [==============================] - 86s 6ms/sample - loss: 0.0013 - acc: 0.9999 - val_loss: 0.0382 - val_acc: 0.9892\n"
     ]
    }
   ],
   "source": [
    "# trained = model.fit(X_train, y_train, epochs=50, batch_size=32, validation_data=(X_val,y_val))\n",
    "trained = model.fit(X_train, y_train, epochs=20, batch_size=64, validation_data=(X_val,y_val), callbacks=callback)\n",
    "trained = model.fit(X_train, y_train, epochs=20, batch_size=64, validation_data=(X_val,y_val), callbacks=callback)"
   ]
  },
  {
   "cell_type": "code",
   "execution_count": 15,
   "metadata": {},
   "outputs": [
    {
     "data": {
      "image/png": "[encoded data removed]",
      "text/plain": [
       "<Figure size 432x288 with 1 Axes>"
      ]
     },
     "metadata": {
      "needs_background": "light"
     },
     "output_type": "display_data"
    },
    {
     "data": {
      "image/png": "[encoded data removed]",
      "text/plain": [
       "<Figure size 432x288 with 1 Axes>"
      ]
     },
     "metadata": {
      "needs_background": "light"
     },
     "output_type": "display_data"
    }
   ],
   "source": [
    "plot.plot(trained.history['acc'])\n",
    "plot.plot(trained.history['val_acc'])\n",
    "plot.title('Model accuracy')\n",
    "plot.ylabel('Accuracy')\n",
    "plot.xlabel('Epoch')\n",
    "plot.legend(['Train', 'Valid'], loc='upper left')\n",
    "plot.show()\n",
    "\n",
    "plot.plot(trained.history['loss'])\n",
    "plot.plot(trained.history['val_loss'])\n",
    "plot.title('Model loss')\n",
    "plot.ylabel('Loss')\n",
    "plot.xlabel('Epoch')\n",
    "plot.legend(['Train', 'Valid'], loc='upper left')\n",
    "plot.show()"
   ]
  },
  {
   "cell_type": "code",
   "execution_count": 16,
   "metadata": {},
   "outputs": [
    {
     "name": "stdout",
     "output_type": "stream",
     "text": [
      "1679/1679 [==============================] - 4s 2ms/sample - loss: 0.0372 - acc: 0.9899\n"
     ]
    },
    {
     "data": {
      "text/plain": [
       "[0.03721977411287098, 0.9898749]"
      ]
     },
     "execution_count": 16,
     "metadata": {},
     "output_type": "execute_result"
    }
   ],
   "source": [
    "# test_images,test_labels = get_images('./test/')\n",
    "# test_images = np.array(test_images)\n",
    "# test_labels = np.array(test_labels)\n",
    "model.evaluate(X_test,y_test, verbose=1)"
   ]
  },
  {
   "cell_type": "code",
   "execution_count": 17,
   "metadata": {},
   "outputs": [],
   "source": [
    "pred = model.predict(X_test)"
   ]
  },
  {
   "cell_type": "code",
   "execution_count": 18,
   "metadata": {},
   "outputs": [],
   "source": [
    "pred_0 = []\n",
    "pred_1 = []\n",
    "pred_2 = []\n",
    "pred_3 = []\n",
    "pred_4 = []\n",
    "pred_5 = []\n",
    "for i in range(len(pred)):\n",
    "    a = np.argmax(pred[i]) == y_test[i]\n",
    "    if y_test[i] == 0:\n",
    "        pred_0.append(a)\n",
    "    elif y_test[i] == 1:\n",
    "        pred_1.append(a)\n",
    "    elif y_test[i] == 2:\n",
    "        pred_2.append(a)\n",
    "    elif y_test[i] == 3:\n",
    "        pred_3.append(a)\n",
    "    elif y_test[i] == 4:\n",
    "        pred_4.append(a)\n",
    "    elif y_test[i] == 5:\n",
    "        pred_5.append(a)\n",
    "acc_0 = np.sum(pred_0) / len(pred_0)\n",
    "acc_1 = np.sum(pred_1) / len(pred_1)\n",
    "acc_2 = np.sum(pred_2) / len(pred_2)\n",
    "acc_3 = np.sum(pred_3) / len(pred_3)\n",
    "acc_4 = np.sum(pred_4) / len(pred_4)\n",
    "acc_5 = np.sum(pred_5) / len(pred_5)"
   ]
  },
  {
   "cell_type": "code",
   "execution_count": 19,
   "metadata": {},
   "outputs": [
    {
     "name": "stdout",
     "output_type": "stream",
     "text": [
      "Tomato_H   정확도 : 99.90%\t  995 / 996\n",
      "Tomato_D01 정확도 : 95.65%\t   22 / 23\n",
      "Tomato_D04 정확도 : 96.10%\t   74 / 77\n",
      "Tomato_D05 정확도 : 99.51%\t  205 / 206\n",
      "Tomato_D08 정확도 : 100.00%\t   42 / 42\n",
      "Tomato_P03 정확도 : 96.72%\t  324 / 335\n",
      "\n"
     ]
    }
   ],
   "source": [
    "labels = {0: 'Tomato_H', 1: 'Tomato_D01', 2: 'Tomato_D04', 3: 'Tomato_D05',\n",
    "              4: 'Tomato_D08', 5: 'Tomato_P03'}\n",
    "\n",
    "print(\"{:10} 정확도 : {:.2f}%\\t {:4} / {}\\n\\\n",
    "{:10} 정확도 : {:.2f}%\\t {:4} / {}\\n\\\n",
    "{:10} 정확도 : {:.2f}%\\t {:4} / {}\\n\\\n",
    "{:10} 정확도 : {:.2f}%\\t {:4} / {}\\n\\\n",
    "{:10} 정확도 : {:.2f}%\\t {:4} / {}\\n\\\n",
    "{:10} 정확도 : {:.2f}%\\t {:4} / {}\\n\".format(\n",
    " labels[0], acc_0 * 100, np.sum(pred_0), len(pred_0), \n",
    " labels[1], acc_1 * 100, np.sum(pred_1), len(pred_1),\n",
    " labels[2], acc_2 * 100, np.sum(pred_2), len(pred_2),\n",
    " labels[3], acc_3 * 100, np.sum(pred_3), len(pred_3),\n",
    " labels[4], acc_4 * 100, np.sum(pred_4), len(pred_4),\n",
    " labels[5], acc_5 * 100, np.sum(pred_5), len(pred_5)))"
   ]
  },
  {
   "cell_type": "code",
   "execution_count": 21,
   "metadata": {},
   "outputs": [],
   "source": [
    "model.save('97_2_per_mobilenet_v2.h5')"
   ]
  },
  {
   "cell_type": "code",
   "execution_count": null,
   "metadata": {},
   "outputs": [],
   "source": []
  }
 ],
 "metadata": {
  "accelerator": "GPU",
  "colab": {
   "collapsed_sections": [],
   "name": "Final preject mini dataset first step.ipynb",
   "provenance": []
  },
  "kernelspec": {
   "display_name": "Python 3",
   "language": "python",
   "name": "python3"
  },
  "language_info": {
   "codemirror_mode": {
    "name": "ipython",
    "version": 3
   },
   "file_extension": ".py",
   "mimetype": "text/x-python",
   "name": "python",
   "nbconvert_exporter": "python",
   "pygments_lexer": "ipython3",
   "version": "3.7.4"
  }
 },
 "nbformat": 4,
 "nbformat_minor": 4
}
