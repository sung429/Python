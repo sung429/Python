{
 "cells": [
  {
   "cell_type": "markdown",
   "metadata": {},
   "source": [
    "### 1. 조건문\n",
    "- 특정 조건에 따라서 코드를 실행하고자 할때 사용\n",
    "- if, else, elif"
   ]
  },
  {
   "cell_type": "code",
   "execution_count": 1,
   "metadata": {},
   "outputs": [
    {
     "name": "stdout",
     "output_type": "stream",
     "text": [
      "python\n",
      "done\n"
     ]
    }
   ],
   "source": [
    "if True:\n",
    "    print(\"python\")\n",
    "print(\"done\")"
   ]
  },
  {
   "cell_type": "code",
   "execution_count": 2,
   "metadata": {},
   "outputs": [
    {
     "name": "stdout",
     "output_type": "stream",
     "text": [
      "done\n"
     ]
    }
   ],
   "source": [
    "if False:\n",
    "    print(\"python\")\n",
    "print(\"done\")"
   ]
  },
  {
   "cell_type": "code",
   "execution_count": 3,
   "metadata": {},
   "outputs": [],
   "source": [
    "# 조건부분 : bool 데이터 타입 이외의 데이터 타입이 오면 bool으로 형변환 되어 판단"
   ]
  },
  {
   "cell_type": "code",
   "execution_count": 4,
   "metadata": {},
   "outputs": [
    {
     "data": {
      "text/plain": [
       "(False, True, True)"
      ]
     },
     "execution_count": 4,
     "metadata": {},
     "output_type": "execute_result"
    }
   ],
   "source": [
    "# int : 0을 제외한 나머지 값은 True\n",
    "bool(0), bool(1), bool(-1)"
   ]
  },
  {
   "cell_type": "code",
   "execution_count": 5,
   "metadata": {},
   "outputs": [],
   "source": [
    "num = 0\n",
    "if num:\n",
    "    print(\"as\")"
   ]
  },
  {
   "cell_type": "code",
   "execution_count": 6,
   "metadata": {},
   "outputs": [
    {
     "name": "stdout",
     "output_type": "stream",
     "text": [
      "as\n"
     ]
    }
   ],
   "source": [
    "num = 1\n",
    "if num:\n",
    "    print(\"as\")"
   ]
  },
  {
   "cell_type": "code",
   "execution_count": 8,
   "metadata": {},
   "outputs": [
    {
     "name": "stdout",
     "output_type": "stream",
     "text": [
      "홀수\n"
     ]
    }
   ],
   "source": [
    "number = 7\n",
    "\n",
    "if number % 2:\n",
    "    print(\"홀수\")"
   ]
  },
  {
   "cell_type": "code",
   "execution_count": 10,
   "metadata": {},
   "outputs": [],
   "source": [
    "# float : 0.0을 제외한 나머지 실수는 True\n",
    "# str : \"\"를 제외한 나머지 문자열은 True\n",
    "# list, tuple, dict : [], (), {}를 제외한 나머지는 True"
   ]
  },
  {
   "cell_type": "code",
   "execution_count": 11,
   "metadata": {},
   "outputs": [],
   "source": [
    "# 지갑에 돈이 10000원 이상 있으면 택시를 타고 그렇지 않으면 걸어서 집에 갑니다."
   ]
  },
  {
   "cell_type": "code",
   "execution_count": 13,
   "metadata": {},
   "outputs": [
    {
     "name": "stdout",
     "output_type": "stream",
     "text": [
      "걸어서\n"
     ]
    }
   ],
   "source": [
    "wallet = 2000\n",
    "money = 10000\n",
    "if wallet >= money:\n",
    "    print('택시')\n",
    "else:\n",
    "    print(\"걸어서\")"
   ]
  },
  {
   "cell_type": "code",
   "execution_count": 14,
   "metadata": {},
   "outputs": [],
   "source": [
    "# 지갑에 돈이 10000원 이상 있으면 택시를 타고 2000원 이상이 있으면 버스를 탑니다. 그렇지 않으면 걸어서 집에 갑니다."
   ]
  },
  {
   "cell_type": "code",
   "execution_count": 17,
   "metadata": {},
   "outputs": [
    {
     "name": "stdout",
     "output_type": "stream",
     "text": [
      "버스\n"
     ]
    }
   ],
   "source": [
    "money = 6000\n",
    "if money >= 10000:\n",
    "    print('택시')\n",
    "elif money >=2000:\n",
    "    print('버스')\n",
    "else:\n",
    "    print('걸어서')"
   ]
  },
  {
   "cell_type": "code",
   "execution_count": 6,
   "metadata": {},
   "outputs": [],
   "source": [
    "# 문제\n",
    "# 계좌에 10000원이 들어 있습니다.\n",
    "# 인출 금액을 입력 받습니다.\n",
    "# 인출 금액이 계좌에 있는 금액보다 크면 인출이 불가능합니다. 출력\n",
    "# 인출 금액이 계좌에 있는 금액보다 작으면 인출 되었습니다. 출력\n",
    "# 마지막에 현재 계좌 잔액출력"
   ]
  },
  {
   "cell_type": "code",
   "execution_count": 3,
   "metadata": {},
   "outputs": [
    {
     "name": "stdin",
     "output_type": "stream",
     "text": [
      "인출 금액을 입력 하시오. : 120000\n"
     ]
    },
    {
     "name": "stdout",
     "output_type": "stream",
     "text": [
      "인출 불가 / 현재 잔액 : 10000\n"
     ]
    }
   ],
   "source": [
    "account = 10000\n",
    "withdraw = int(input(\"인출 금액을 입력 하시오. :\"))\n",
    "if withdraw <= account:\n",
    "    print(\"{}원이 인출되었습니다.\".format(withdraw))\n",
    "    account -= withdraw\n",
    "    print(\"잔액 {}\".format(account))\n",
    "else:\n",
    "    print(\"인출 불가 / 현재 잔액 : {}\".format(account))"
   ]
  },
  {
   "cell_type": "code",
   "execution_count": 9,
   "metadata": {},
   "outputs": [
    {
     "name": "stdout",
     "output_type": "stream",
     "text": [
      "현재 잔액은 10000원 입니다. 인출금액은 120000원 입니다.\n",
      "현재 잔액은 10000원 입니다. 인출금액은 120000원 입니다.\n"
     ]
    }
   ],
   "source": [
    "# string 데이터 타입의 format 함수\n",
    "print(\"현재 잔액은 {}원 입니다. 인출금액은 {}원 입니다.\".format(account, withdraw))\n",
    "print(\"현재 잔액은 {data1}원 입니다. 인출금액은 {data2}원 입니다.\".format(data1=account, data2=withdraw))"
   ]
  },
  {
   "cell_type": "markdown",
   "metadata": {},
   "source": [
    "### 2. 삼항연산자\n",
    "- 간단한 if, else 구문을 한줄의 코드로 표현할수 있는 방법\n",
    "- (True) if (confition) else (False)"
   ]
  },
  {
   "cell_type": "code",
   "execution_count": 30,
   "metadata": {},
   "outputs": [
    {
     "name": "stdout",
     "output_type": "stream",
     "text": [
      "not zero\n"
     ]
    }
   ],
   "source": [
    "# data 변수에 0이면 \"Zero\" 출력, 아니면 \"not zero\" 출력\n",
    "data = 1\n",
    "if data:\n",
    "    print(\"not zero\")\n",
    "else:\n",
    "    print(\"zero\")\n"
   ]
  },
  {
   "cell_type": "code",
   "execution_count": 32,
   "metadata": {},
   "outputs": [
    {
     "data": {
      "text/plain": [
       "'not zero'"
      ]
     },
     "execution_count": 32,
     "metadata": {},
     "output_type": "execute_result"
    }
   ],
   "source": [
    "data = 1\n",
    "result = \"not zero\" if data else \"zero\"\n",
    "result"
   ]
  },
  {
   "cell_type": "markdown",
   "metadata": {},
   "source": [
    "### 2. 반복문\n",
    "- 반복되는 코드를 실행할때 사용\n",
    "- while, for, break, continue\n",
    "- list comprehention"
   ]
  },
  {
   "cell_type": "code",
   "execution_count": 37,
   "metadata": {},
   "outputs": [
    {
     "name": "stdout",
     "output_type": "stream",
     "text": [
      "3\n",
      "2\n",
      "1\n"
     ]
    }
   ],
   "source": [
    "# while\n",
    "data = 3\n",
    "while data:\n",
    "    print(data)\n",
    "    data -= 1"
   ]
  },
  {
   "cell_type": "code",
   "execution_count": 38,
   "metadata": {},
   "outputs": [],
   "source": [
    "# 학생이 국어:80점, 영어:90점, 수학:100점 while 문을 이용해서 총점과 평균을 출력\n",
    "# 학생의 점수는 list, dict 표현"
   ]
  },
  {
   "cell_type": "code",
   "execution_count": 56,
   "metadata": {},
   "outputs": [
    {
     "name": "stdout",
     "output_type": "stream",
     "text": [
      "270 90.0\n"
     ]
    }
   ],
   "source": [
    "score = {\"국어\":80,\n",
    "        \"영어\":90,\n",
    "        \"수학\":100}\n",
    "subject_list = list(score.keys())\n",
    "total = 0\n",
    "while score:\n",
    "    total += score.pop(subject_list.pop())\n",
    "    avg = total / 3\n",
    "print(total, avg)"
   ]
  },
  {
   "cell_type": "code",
   "execution_count": 57,
   "metadata": {},
   "outputs": [
    {
     "name": "stdout",
     "output_type": "stream",
     "text": [
      "10\n"
     ]
    }
   ],
   "source": [
    "# 무한루프\n",
    "# break : 반복문을 중단 시킬때 사용되는 예약어\n",
    "result = 1\n",
    "while result:\n",
    "    if result >= 10:\n",
    "        break\n",
    "    result += 1\n",
    "print(result)"
   ]
  },
  {
   "cell_type": "markdown",
   "metadata": {},
   "source": [
    "### for\n",
    "- iterable한 값을 하나씩 꺼내서 value에 대입시킨후 코드를 iterable 변수의 값 갯수 만큼 실행\n",
    "```\n",
    "for (variable> in <iterables>:\n",
    "    <code>\n",
    "```"
   ]
  },
  {
   "cell_type": "code",
   "execution_count": 62,
   "metadata": {},
   "outputs": [
    {
     "name": "stdout",
     "output_type": "stream",
     "text": [
      "0 2 4 "
     ]
    }
   ],
   "source": [
    "# for : continue : 조건부분으로 올라가서 코드가 실행\n",
    "ls = [0,1,2,3,4]\n",
    "for data in ls:\n",
    "    if data % 2: # data가 홀수가 되면 continue\n",
    "        continue\n",
    "    # data가 짝수이면 print를 실행\n",
    "    print(data, end=\" \")"
   ]
  },
  {
   "cell_type": "code",
   "execution_count": 63,
   "metadata": {},
   "outputs": [
    {
     "name": "stdout",
     "output_type": "stream",
     "text": [
      "0 1 2 3 4 5 6 7 8 9 10 11 12 13 14 15 16 17 18 19 20 21 22 23 24 25 26 27 28 29 30 31 32 33 34 35 36 37 38 39 40 41 42 43 44 45 46 47 48 49 50 51 52 53 54 55 56 57 58 59 60 61 62 63 64 65 66 67 68 69 70 71 72 73 74 75 76 77 78 79 80 81 82 83 84 85 86 87 88 89 90 91 92 93 94 95 96 97 98 99 "
     ]
    }
   ],
   "source": [
    "# for를 이용하여 코드를 100번 실행\n",
    "# range 함수\n",
    "for i in range(100):\n",
    "    print(i, end=\" \")"
   ]
  },
  {
   "cell_type": "code",
   "execution_count": 67,
   "metadata": {},
   "outputs": [
    {
     "data": {
      "text/plain": [
       "([0, 1, 2, 3, 4], [5, 6, 7, 8, 9], [0, 2, 4, 6, 8])"
      ]
     },
     "execution_count": 67,
     "metadata": {},
     "output_type": "execute_result"
    }
   ],
   "source": [
    "# offset index 개념과 비슷하게 사용\n",
    "list(range(5)), list(range(5, 10)), list(range(0, 10, 2))"
   ]
  },
  {
   "cell_type": "code",
   "execution_count": 68,
   "metadata": {},
   "outputs": [],
   "source": [
    "score = {\"국어\":80,\n",
    "        \"영어\":90,\n",
    "        \"수학\":100}"
   ]
  },
  {
   "cell_type": "code",
   "execution_count": 74,
   "metadata": {},
   "outputs": [
    {
     "name": "stdout",
     "output_type": "stream",
     "text": [
      "국어 80\n",
      "영어 90\n",
      "수학 100\n",
      "호박 10\n"
     ]
    }
   ],
   "source": [
    "# for문에서 iterable 데이터가 tuple로 나오면 여러개의 변수로 받을수 있습니다.\n",
    "for i,j in score.items():\n",
    "    print(i,j)"
   ]
  },
  {
   "cell_type": "code",
   "execution_count": 72,
   "metadata": {},
   "outputs": [],
   "source": [
    "score['호박'] = 10"
   ]
  },
  {
   "cell_type": "code",
   "execution_count": 73,
   "metadata": {},
   "outputs": [
    {
     "data": {
      "text/plain": [
       "{'국어': 80, '영어': 90, '수학': 100, '호박': 10}"
      ]
     },
     "execution_count": 73,
     "metadata": {},
     "output_type": "execute_result"
    }
   ],
   "source": [
    "scoreㅠ"
   ]
  },
  {
   "cell_type": "code",
   "execution_count": 76,
   "metadata": {},
   "outputs": [],
   "source": [
    "# 구구단 출력 (가로 출력)\n",
    "# 2*1 = 2 3*1=3 .... 9*1 = 9\n",
    "# ...\n",
    "# 2*9 = 18 3*9=27 ... 9 * 9 = 81"
   ]
  },
  {
   "cell_type": "code",
   "execution_count": 84,
   "metadata": {},
   "outputs": [
    {
     "name": "stdout",
     "output_type": "stream",
     "text": [
      "2*1=2\t3*1=3\t4*1=4\t5*1=5\t6*1=6\t7*1=7\t8*1=8\t9*1=9\t\n",
      "2*2=4\t3*2=6\t4*2=8\t5*2=10\t6*2=12\t7*2=14\t8*2=16\t9*2=18\t\n",
      "2*3=6\t3*3=9\t4*3=12\t5*3=15\t6*3=18\t7*3=21\t8*3=24\t9*3=27\t\n",
      "2*4=8\t3*4=12\t4*4=16\t5*4=20\t6*4=24\t7*4=28\t8*4=32\t9*4=36\t\n",
      "2*5=10\t3*5=15\t4*5=20\t5*5=25\t6*5=30\t7*5=35\t8*5=40\t9*5=45\t\n",
      "2*6=12\t3*6=18\t4*6=24\t5*6=30\t6*6=36\t7*6=42\t8*6=48\t9*6=54\t\n",
      "2*7=14\t3*7=21\t4*7=28\t5*7=35\t6*7=42\t7*7=49\t8*7=56\t9*7=63\t\n",
      "2*8=16\t3*8=24\t4*8=32\t5*8=40\t6*8=48\t7*8=56\t8*8=64\t9*8=72\t\n",
      "2*9=18\t3*9=27\t4*9=36\t5*9=45\t6*9=54\t7*9=63\t8*9=72\t9*9=81\t\n"
     ]
    }
   ],
   "source": [
    "first = range(2,10)\n",
    "second = range(1,10)\n",
    "for i in second:\n",
    "    for j in first:\n",
    "        print(\"{}*{}={}\".format(j, i, j*i), end=\"\\t\")\n",
    "        if j == 9:\n",
    "            print('')"
   ]
  },
  {
   "cell_type": "markdown",
   "metadata": {},
   "source": [
    "### 3. List Comprehention\n",
    "- 리스트 데이터를 만들어주는 방법\n",
    "- for문 보다 빠르게 동작합니다."
   ]
  },
  {
   "cell_type": "code",
   "execution_count": 85,
   "metadata": {},
   "outputs": [
    {
     "data": {
      "text/plain": [
       "[0, 1, 4, 9]"
      ]
     },
     "execution_count": 85,
     "metadata": {},
     "output_type": "execute_result"
    }
   ],
   "source": [
    "# 각각 값에 제곱한 결과 출력\n",
    "ls = [0, 1, 2, 3]\n",
    "result = []\n",
    "for data in ls:\n",
    "    result.append(data**2)\n",
    "result"
   ]
  },
  {
   "cell_type": "code",
   "execution_count": 87,
   "metadata": {},
   "outputs": [
    {
     "data": {
      "text/plain": [
       "[0, 1, 4, 9]"
      ]
     },
     "execution_count": 87,
     "metadata": {},
     "output_type": "execute_result"
    }
   ],
   "source": [
    "result = [data ** 2 for data in ls]\n",
    "result"
   ]
  },
  {
   "cell_type": "code",
   "execution_count": 90,
   "metadata": {},
   "outputs": [
    {
     "data": {
      "text/plain": [
       "[0, 1, 2, 9]"
      ]
     },
     "execution_count": 90,
     "metadata": {},
     "output_type": "execute_result"
    }
   ],
   "source": [
    "result = [data ** 2 if data % 2 == 1 else data for data in ls]\n",
    "result"
   ]
  },
  {
   "cell_type": "code",
   "execution_count": 91,
   "metadata": {},
   "outputs": [
    {
     "data": {
      "text/plain": [
       "['짝수', '홀수', '짝수', '홀수']"
      ]
     },
     "execution_count": 91,
     "metadata": {},
     "output_type": "execute_result"
    }
   ],
   "source": [
    "# 리스트 컴프리헨션을 써서 홀수와 짝수를 리스트로 출력해주는 코드\n",
    "# 삼항연산 사용\n",
    "ls = [0,1,2,3]\n",
    "#result = [\"짝수\", \"홀수\", \"짝수\", \"홀수\"]\n",
    "\n",
    "result = [\"홀수\" if data % 2 else \"짝수\" for data in ls]\n",
    "result"
   ]
  },
  {
   "cell_type": "code",
   "execution_count": 92,
   "metadata": {},
   "outputs": [
    {
     "data": {
      "text/plain": [
       "[1, 3, 5, 7, 9]"
      ]
     },
     "execution_count": 92,
     "metadata": {},
     "output_type": "execute_result"
    }
   ],
   "source": [
    "# 리스트 컴프리헨션 조건문\n",
    "ls = range(10)\n",
    "[data for data in ls if data % 2]"
   ]
  },
  {
   "cell_type": "code",
   "execution_count": 93,
   "metadata": {},
   "outputs": [
    {
     "data": {
      "text/plain": [
       "['__add__',\n",
       " '__class__',\n",
       " '__contains__',\n",
       " '__delattr__',\n",
       " '__delitem__',\n",
       " '__dir__',\n",
       " '__doc__',\n",
       " '__eq__',\n",
       " '__format__',\n",
       " '__ge__',\n",
       " '__getattribute__',\n",
       " '__getitem__',\n",
       " '__gt__',\n",
       " '__hash__',\n",
       " '__iadd__',\n",
       " '__imul__',\n",
       " '__init__',\n",
       " '__init_subclass__',\n",
       " '__iter__',\n",
       " '__le__',\n",
       " '__len__',\n",
       " '__lt__',\n",
       " '__mul__',\n",
       " '__ne__',\n",
       " '__new__',\n",
       " '__reduce__',\n",
       " '__reduce_ex__',\n",
       " '__repr__',\n",
       " '__reversed__',\n",
       " '__rmul__',\n",
       " '__setattr__',\n",
       " '__setitem__',\n",
       " '__sizeof__',\n",
       " '__str__',\n",
       " '__subclasshook__',\n",
       " 'append',\n",
       " 'clear',\n",
       " 'copy',\n",
       " 'count',\n",
       " 'extend',\n",
       " 'index',\n",
       " 'insert',\n",
       " 'pop',\n",
       " 'remove',\n",
       " 'reverse',\n",
       " 'sort']"
      ]
     },
     "execution_count": 93,
     "metadata": {},
     "output_type": "execute_result"
    }
   ],
   "source": [
    "ls = [1, 2, 3]\n",
    "dir(ls)"
   ]
  },
  {
   "cell_type": "code",
   "execution_count": 94,
   "metadata": {},
   "outputs": [
    {
     "data": {
      "text/plain": [
       "['append',\n",
       " 'clear',\n",
       " 'copy',\n",
       " 'count',\n",
       " 'extend',\n",
       " 'index',\n",
       " 'insert',\n",
       " 'pop',\n",
       " 'remove',\n",
       " 'reverse',\n",
       " 'sort']"
      ]
     },
     "execution_count": 94,
     "metadata": {},
     "output_type": "execute_result"
    }
   ],
   "source": [
    "[data for data in dir(ls) if '__' not in data]"
   ]
  },
  {
   "cell_type": "code",
   "execution_count": 98,
   "metadata": {},
   "outputs": [
    {
     "data": {
      "text/plain": [
       "['append',\n",
       " 'clear',\n",
       " 'copy',\n",
       " 'count',\n",
       " 'extend',\n",
       " 'index',\n",
       " 'insert',\n",
       " 'pop',\n",
       " 'remove',\n",
       " 'reverse',\n",
       " 'sort']"
      ]
     },
     "execution_count": 98,
     "metadata": {},
     "output_type": "execute_result"
    }
   ],
   "source": [
    "[func for func in dir(ls) if func[:2] != '__']"
   ]
  },
  {
   "cell_type": "code",
   "execution_count": 97,
   "metadata": {},
   "outputs": [
    {
     "data": {
      "text/plain": [
       "['clear', 'copy', 'count']"
      ]
     },
     "execution_count": 97,
     "metadata": {},
     "output_type": "execute_result"
    }
   ],
   "source": [
    "[func for func in dir(ls) if func[:2] != '__' and func[0] == 'c']"
   ]
  },
  {
   "cell_type": "code",
   "execution_count": 99,
   "metadata": {},
   "outputs": [],
   "source": [
    "# for문과 list comprehention 성능 비교"
   ]
  },
  {
   "cell_type": "code",
   "execution_count": 108,
   "metadata": {},
   "outputs": [
    {
     "name": "stdout",
     "output_type": "stream",
     "text": [
      "1.44 ms ± 317 µs per loop (mean ± std. dev. of 7 runs, 100 loops each)\n"
     ]
    }
   ],
   "source": [
    "%%timeit\n",
    "\n",
    "ls = []\n",
    "for num in range(1,10001):\n",
    "    if num % 3 == 0:\n",
    "        ls.append(num)\n",
    "len(ls)"
   ]
  },
  {
   "cell_type": "code",
   "execution_count": 110,
   "metadata": {},
   "outputs": [
    {
     "name": "stdout",
     "output_type": "stream",
     "text": [
      "922 µs ± 40.9 µs per loop (mean ± std. dev. of 7 runs, 1000 loops each)\n"
     ]
    }
   ],
   "source": [
    "%%timeit\n",
    "\n",
    "ls = [num for num in range(1,10001) if num % 3 == 0]\n",
    "len(ls)"
   ]
  },
  {
   "cell_type": "code",
   "execution_count": null,
   "metadata": {},
   "outputs": [],
   "source": []
  }
 ],
 "metadata": {
  "kernelspec": {
   "display_name": "Python 3",
   "language": "python",
   "name": "python3"
  },
  "language_info": {
   "codemirror_mode": {
    "name": "ipython",
    "version": 3
   },
   "file_extension": ".py",
   "mimetype": "text/x-python",
   "name": "python",
   "nbconvert_exporter": "python",
   "pygments_lexer": "ipython3",
   "version": "3.7.3"
  }
 },
 "nbformat": 4,
 "nbformat_minor": 4
}
