{
 "cells": [
  {
   "cell_type": "markdown",
   "metadata": {},
   "source": [
    "### 집합\n",
    "- 집합(set) : 구별 가능한 객체의 모임\n",
    "- 원소(element) : 집합에 포함된 구별 가능한 객체\n",
    "\n",
    "- 원소 $x$와 그 원소를 포함하는 집합 A의 관계는 다음처럼 표시한다.\n",
    "$$x\\in A$$\n",
    "- 원소 $x$가 집합 $A$에 포함되지 않는다면 다음처럼 표시한다.\n",
    "$$x \\notin A$$\n",
    "\n",
    "- 만약 $A$ = {1,2,3}이면\n",
    "$$1 \\in A, 4 \\notin A$$"
   ]
  },
  {
   "cell_type": "markdown",
   "metadata": {},
   "source": [
    "- 파이썬에서는 set과 frozenset 자료형으로 집합을 나타된다.\n",
    "- set은 내용을 변경할 수 있는 mutable 자료형\n",
    "- frozenset은 내용을 변경할 수 없는 immutable 자료형\n",
    "- immutable 자료형만 dictionary의 key가 될 수 있음"
   ]
  },
  {
   "cell_type": "code",
   "execution_count": 1,
   "metadata": {},
   "outputs": [
    {
     "data": {
      "text/plain": [
       "{1, 2, 3}"
      ]
     },
     "execution_count": 1,
     "metadata": {},
     "output_type": "execute_result"
    }
   ],
   "source": [
    "A = set([1, 2, 3, 3, 2])\n",
    "A"
   ]
  },
  {
   "cell_type": "code",
   "execution_count": 3,
   "metadata": {},
   "outputs": [
    {
     "data": {
      "text/plain": [
       "frozenset({'H', 'T'})"
      ]
     },
     "execution_count": 3,
     "metadata": {},
     "output_type": "execute_result"
    }
   ],
   "source": [
    "B = frozenset(['H', 'T'])\n",
    "B"
   ]
  },
  {
   "cell_type": "markdown",
   "metadata": {},
   "source": [
    "set 자료형은 {} 기호를 사용하여 만들 수도 있다."
   ]
  },
  {
   "cell_type": "code",
   "execution_count": 4,
   "metadata": {},
   "outputs": [
    {
     "data": {
      "text/plain": [
       "{'♠', '♡', '♢', '♣'}"
      ]
     },
     "execution_count": 4,
     "metadata": {},
     "output_type": "execute_result"
    }
   ],
   "source": [
    "C = {\"\\u2660\", \"\\u2661\", \"\\u2662\", \"\\u2663\"}\n",
    "C"
   ]
  },
  {
   "cell_type": "code",
   "execution_count": 7,
   "metadata": {},
   "outputs": [
    {
     "data": {
      "text/plain": [
       "set"
      ]
     },
     "execution_count": 7,
     "metadata": {},
     "output_type": "execute_result"
    }
   ],
   "source": [
    "type(C)"
   ]
  },
  {
   "cell_type": "markdown",
   "metadata": {},
   "source": [
    "### 집합의 크기\n",
    "집합의 크기(cardinality)는 집합이 가지는 원소의 갯수를 말한다. $\\vert{A}\\vert$ 기호나 card 기호를 사용하여 나타낸다. <br>\n",
    "만약 A = {1,2,3}이면,\n",
    "$$\\vert{A}\\vert = card(A) = 3$$"
   ]
  },
  {
   "cell_type": "markdown",
   "metadata": {},
   "source": [
    "파이썬에서는 len 명령을 사용하여 집합의 원소의 갯수를 구한다."
   ]
  },
  {
   "cell_type": "code",
   "execution_count": 8,
   "metadata": {},
   "outputs": [
    {
     "data": {
      "text/plain": [
       "(3, 2, 4)"
      ]
     },
     "execution_count": 8,
     "metadata": {},
     "output_type": "execute_result"
    }
   ],
   "source": [
    "len(A), len(B), len(C)"
   ]
  },
  {
   "cell_type": "markdown",
   "metadata": {},
   "source": [
    "### 합집합과 교집합\n",
    "두 집합의 합집합(union)은 각 집합의 원소를 모두 포함하는 집합을 말하고 다음과 같이 표시 한다.$$A \\cup B$$\n",
    "두 집합의 교집합(intersection)은 두 사건 모두에 속하는 원소로만 이루어진 집합을 말하고 다음과 같이 표시 한다. $$A \\cap B$$"
   ]
  },
  {
   "cell_type": "markdown",
   "metadata": {},
   "source": [
    "파이썬에서는 union, intersection 메서드나 |, & 연산자를 사용하여 합집합과 교집합을 구할 수 있다."
   ]
  },
  {
   "cell_type": "code",
   "execution_count": 9,
   "metadata": {},
   "outputs": [],
   "source": [
    "A1 = set([1, 2, 3, 4])\n",
    "A2 = set([2, 4, 6])\n",
    "A3 = set([1, 2, 3])\n",
    "A4 = set([2, 3, 4, 5, 6])"
   ]
  },
  {
   "cell_type": "code",
   "execution_count": 10,
   "metadata": {},
   "outputs": [
    {
     "data": {
      "text/plain": [
       "{1, 2, 3, 4, 6}"
      ]
     },
     "execution_count": 10,
     "metadata": {},
     "output_type": "execute_result"
    }
   ],
   "source": [
    "A1.union(A2)"
   ]
  },
  {
   "cell_type": "code",
   "execution_count": 11,
   "metadata": {},
   "outputs": [
    {
     "data": {
      "text/plain": [
       "{1, 2, 3, 4, 6}"
      ]
     },
     "execution_count": 11,
     "metadata": {},
     "output_type": "execute_result"
    }
   ],
   "source": [
    "A2 | A1"
   ]
  },
  {
   "cell_type": "code",
   "execution_count": 12,
   "metadata": {},
   "outputs": [
    {
     "data": {
      "text/plain": [
       "{2, 3}"
      ]
     },
     "execution_count": 12,
     "metadata": {},
     "output_type": "execute_result"
    }
   ],
   "source": [
    "A3.intersection(A4)"
   ]
  },
  {
   "cell_type": "code",
   "execution_count": 13,
   "metadata": {},
   "outputs": [
    {
     "data": {
      "text/plain": [
       "{2, 3}"
      ]
     },
     "execution_count": 13,
     "metadata": {},
     "output_type": "execute_result"
    }
   ],
   "source": [
    "A4 & A3"
   ]
  },
  {
   "cell_type": "markdown",
   "metadata": {},
   "source": [
    "### 전체집합, 부분집합, 여집합\n",
    "어떤 집합의 원소 중 일부만을 포함하는 집합을 부분집합(subset)이라고 하고 원래의 집합을 전체집합이라고 한다. 집합 $A$가 집합 $\\Omega$의 부분집합이면 다음처럼 표시한다.\n",
    "$$A \\subset \\Omega$$\n",
    "원소의 크기가 더 작은 부분집합을 진부분집합(proper subset)이라고 한다."
   ]
  },
  {
   "cell_type": "markdown",
   "metadata": {},
   "source": [
    "파이썬에서는 두 집합이 부분집합인지를 알아보는 issubset 메소드가 있다."
   ]
  },
  {
   "cell_type": "code",
   "execution_count": 14,
   "metadata": {},
   "outputs": [
    {
     "data": {
      "text/plain": [
       "True"
      ]
     },
     "execution_count": 14,
     "metadata": {},
     "output_type": "execute_result"
    }
   ],
   "source": [
    "A3.issubset(A1)"
   ]
  },
  {
   "cell_type": "markdown",
   "metadata": {},
   "source": [
    "등호로도 가능함"
   ]
  },
  {
   "cell_type": "code",
   "execution_count": 16,
   "metadata": {},
   "outputs": [
    {
     "data": {
      "text/plain": [
       "True"
      ]
     },
     "execution_count": 16,
     "metadata": {},
     "output_type": "execute_result"
    }
   ],
   "source": [
    "A3 <= A1"
   ]
  },
  {
   "cell_type": "code",
   "execution_count": 18,
   "metadata": {},
   "outputs": [
    {
     "data": {
      "text/plain": [
       "False"
      ]
     },
     "execution_count": 18,
     "metadata": {},
     "output_type": "execute_result"
    }
   ],
   "source": [
    "A3.issubset(A2)"
   ]
  },
  {
   "cell_type": "code",
   "execution_count": 19,
   "metadata": {},
   "outputs": [
    {
     "data": {
      "text/plain": [
       "False"
      ]
     },
     "execution_count": 19,
     "metadata": {},
     "output_type": "execute_result"
    }
   ],
   "source": [
    "A3 <= A2"
   ]
  },
  {
   "cell_type": "code",
   "execution_count": 20,
   "metadata": {},
   "outputs": [
    {
     "data": {
      "text/plain": [
       "True"
      ]
     },
     "execution_count": 20,
     "metadata": {},
     "output_type": "execute_result"
    }
   ],
   "source": [
    "A3 <= A3 # 모든집합은 자기 자신의 부분집합"
   ]
  },
  {
   "cell_type": "code",
   "execution_count": 21,
   "metadata": {},
   "outputs": [
    {
     "data": {
      "text/plain": [
       "False"
      ]
     },
     "execution_count": 21,
     "metadata": {},
     "output_type": "execute_result"
    }
   ],
   "source": [
    "A3 < A3  # 모든 집합은 자기 자신의 진부분집합이 아니다."
   ]
  },
  {
   "cell_type": "markdown",
   "metadata": {},
   "source": [
    "### 차집합과 여집합\n",
    "어떤 집합 $A$에 속하면서 다른 집합 $B$에는 속하지 않는 원소로 이루어진 A의 부분집합을 A에서 B를 뺀 차집합(difference)라고 하며\n",
    "$$A - B$$\n",
    "전체 집합 $\\Omega$ 중에서 부분집합 $A$에 속하지 않은 원소로만 이루어진 부분집합을 여집합(complement)이라고 하고 윗첨자를 $C$를 사용 하여\n",
    "$A^{C}$\n",
    "여집합 $A^{C}$는 전체집합에서 집합$A$를 뺀 차집합과 같다.\n",
    "$$A^{C} = \\Omega - A$$"
   ]
  },
  {
   "cell_type": "markdown",
   "metadata": {},
   "source": [
    "파이썬에서는 difference 메서드 혹은 - 연산자로 차집합을 구한다."
   ]
  },
  {
   "cell_type": "code",
   "execution_count": 22,
   "metadata": {},
   "outputs": [
    {
     "data": {
      "text/plain": [
       "{1, 3}"
      ]
     },
     "execution_count": 22,
     "metadata": {},
     "output_type": "execute_result"
    }
   ],
   "source": [
    "A1.difference(A2)"
   ]
  },
  {
   "cell_type": "code",
   "execution_count": 23,
   "metadata": {},
   "outputs": [
    {
     "data": {
      "text/plain": [
       "{1, 3}"
      ]
     },
     "execution_count": 23,
     "metadata": {},
     "output_type": "execute_result"
    }
   ],
   "source": [
    "A1 - A2"
   ]
  },
  {
   "cell_type": "markdown",
   "metadata": {},
   "source": [
    "### 공집합\n",
    "아무런 원소도 포함하지 않는 집합을 공집합(null set)이라고 하며  $\\emptyset$  기호로 나타낸다.\n",
    "\n",
    "공집합은 모든 집합의 부분집합이 된다.\n",
    "$$\\emptyset \\subset A$$"
   ]
  },
  {
   "cell_type": "code",
   "execution_count": 24,
   "metadata": {},
   "outputs": [
    {
     "data": {
      "text/plain": [
       "set()"
      ]
     },
     "execution_count": 24,
     "metadata": {},
     "output_type": "execute_result"
    }
   ],
   "source": [
    "empty_set = set([])\n",
    "empty_set"
   ]
  },
  {
   "cell_type": "code",
   "execution_count": 25,
   "metadata": {},
   "outputs": [
    {
     "data": {
      "text/plain": [
       "True"
      ]
     },
     "execution_count": 25,
     "metadata": {},
     "output_type": "execute_result"
    }
   ],
   "source": [
    "empty_set < A1"
   ]
  },
  {
   "cell_type": "code",
   "execution_count": 26,
   "metadata": {},
   "outputs": [
    {
     "data": {
      "text/plain": [
       "set()"
      ]
     },
     "execution_count": 26,
     "metadata": {},
     "output_type": "execute_result"
    }
   ],
   "source": [
    "empty_set.intersection(A1)"
   ]
  },
  {
   "cell_type": "code",
   "execution_count": 27,
   "metadata": {},
   "outputs": [
    {
     "data": {
      "text/plain": [
       "{1, 2, 3, 4}"
      ]
     },
     "execution_count": 27,
     "metadata": {},
     "output_type": "execute_result"
    }
   ],
   "source": [
    "empty_set.union(A1)"
   ]
  },
  {
   "cell_type": "markdown",
   "metadata": {},
   "source": [
    "### 부분집합의 수\n",
    "집합 $A=\\{1,2\\}$는 다음과 같은 4개의 부분집합을 가진다. 공집합과 자기 자신인 집합도 부분집합이라는 점에 주의한다.\n",
    "$$A_{1}=\\emptyset$$\n",
    "$$A_{2}=\\{1\\}$$\n",
    "$$A_{3}=\\{2\\}$$\n",
    "$$A_{4}=\\{1,2\\}$$\n",
    "원소의 갯수가 $N$개인 집합은 $2^{N}$개의 부분집합을 가진다."
   ]
  },
  {
   "cell_type": "markdown",
   "metadata": {},
   "source": [
    "#### 연습 문제 6.1.1\n",
    "다음 집합의 부분집합을 생각한다.\n",
    "\n",
    "$\\Omega = \\{HH, HT, TH, TT\\}$\n",
    "\n",
    "(1) 이 집합의 부분집합의 갯수는?\n",
    "\n",
    "(2) 이 집합의 모든 부분집합을 frozenset 자료형 객체로 만들고 이 부분집합들을 원소로 가지는 하나의 set 객체를 만든다. 이 집합은 일종의 \"부분집합의 집합\"이 된다."
   ]
  },
  {
   "cell_type": "code",
   "execution_count": 35,
   "metadata": {},
   "outputs": [],
   "source": [
    "#(2)\n",
    "\n",
    "A1=frozenset('HH')\n",
    "A2=frozenset('HT')\n",
    "A3=frozenset('TH')\n",
    "A4=frozenset('TT')\n",
    "A5=frozenset({'HH', 'HT'})\n",
    "A6=frozenset({'HH', 'TH'})\n",
    "A7=frozenset({'HH', 'TT'})\n",
    "A8=frozenset({'HT', 'TH'})\n",
    "A9=frozenset({'HT', 'TT'})\n",
    "A10=frozenset({'TH', 'TT'})\n",
    "A11=frozenset({'HH', 'HT', 'TH'})\n",
    "A12=frozenset({'HH', 'HT', 'TT'})\n",
    "A13=frozenset({'HH', 'TH', 'TT'})\n",
    "A14=frozenset({'HT', 'TH', 'TT'})\n",
    "A15=frozenset({'HH', 'HT', 'TH', 'TT'})\n",
    "A16=frozenset({})"
   ]
  },
  {
   "cell_type": "code",
   "execution_count": 36,
   "metadata": {},
   "outputs": [
    {
     "data": {
      "text/plain": [
       "{frozenset(),\n",
       " frozenset({'HH', 'TH', 'TT'}),\n",
       " frozenset({'T'}),\n",
       " frozenset({'HH', 'HT', 'TH'}),\n",
       " frozenset({'H'}),\n",
       " frozenset({'HT', 'TH', 'TT'}),\n",
       " frozenset({'HH', 'TH'}),\n",
       " frozenset({'HH', 'TT'}),\n",
       " frozenset({'HH', 'HT', 'TT'}),\n",
       " frozenset({'TH', 'TT'}),\n",
       " frozenset({'HT', 'TH'}),\n",
       " frozenset({'HH', 'HT'}),\n",
       " frozenset({'HH', 'HT', 'TH', 'TT'}),\n",
       " frozenset({'H', 'T'}),\n",
       " frozenset({'HT', 'TT'})}"
      ]
     },
     "execution_count": 36,
     "metadata": {},
     "output_type": "execute_result"
    }
   ],
   "source": [
    "all_set = set({A1,A2,A3,A4,A5,A6,A7,A8,A9,A10,A11,A12,A13,A14,A15,A16})\n",
    "all_set"
   ]
  },
  {
   "cell_type": "markdown",
   "metadata": {},
   "source": [
    "### 합집합과 교집합의 분배 법칙\n",
    "곱셈과 덧셈의 분배 법칙은 다음과 같다\n",
    "$$a \\times (b+c) = a \\times b + a \\times b$$\n",
    "곱셈과 덧셈의 분배 법칙처럼 교집합과 합집합도 괄호를 풀어내는 분배법칙이 성립한다.\n",
    "$$A\\cup(B\\cap C) = (A\\cup B)\\cap(A\\cup C)$$\n",
    "$$A\\cap(B\\cup C) = (A\\cap B)\\cup(A\\cap C)$$"
   ]
  },
  {
   "cell_type": "markdown",
   "metadata": {},
   "source": [
    "### 연습 문제 6.1.2\n",
    "다음 세 집합  A ,  B ,  C 에 대해 위에서 말한 두가지 분배법칙이 성립하는지 파이썬 코드로 증명하라.\n",
    "$$A=\\{1,3,5\\}$$\n",
    "$$B=\\{1,2,3\\}$$\n",
    "$$C=\\{2,4,6\\}$$"
   ]
  },
  {
   "cell_type": "code",
   "execution_count": 37,
   "metadata": {},
   "outputs": [],
   "source": [
    "A = set({1,3,5})\n",
    "B = set({1,2,3})\n",
    "C = set({2,4,6})"
   ]
  },
  {
   "cell_type": "code",
   "execution_count": 39,
   "metadata": {},
   "outputs": [
    {
     "data": {
      "text/plain": [
       "{1, 3, 5}"
      ]
     },
     "execution_count": 39,
     "metadata": {},
     "output_type": "execute_result"
    }
   ],
   "source": [
    "A or (B and C)"
   ]
  },
  {
   "cell_type": "code",
   "execution_count": 40,
   "metadata": {},
   "outputs": [
    {
     "data": {
      "text/plain": [
       "{1, 3, 5}"
      ]
     },
     "execution_count": 40,
     "metadata": {},
     "output_type": "execute_result"
    }
   ],
   "source": [
    "(A or B) and (A or C)"
   ]
  },
  {
   "cell_type": "code",
   "execution_count": 41,
   "metadata": {},
   "outputs": [
    {
     "data": {
      "text/plain": [
       "{1, 2, 3}"
      ]
     },
     "execution_count": 41,
     "metadata": {},
     "output_type": "execute_result"
    }
   ],
   "source": [
    "A and (B or C)"
   ]
  },
  {
   "cell_type": "code",
   "execution_count": 42,
   "metadata": {},
   "outputs": [
    {
     "data": {
      "text/plain": [
       "{1, 2, 3}"
      ]
     },
     "execution_count": 42,
     "metadata": {},
     "output_type": "execute_result"
    }
   ],
   "source": [
    "(A and B)or(B and C)"
   ]
  },
  {
   "cell_type": "code",
   "execution_count": null,
   "metadata": {},
   "outputs": [],
   "source": []
  }
 ],
 "metadata": {
  "kernelspec": {
   "display_name": "Python 3",
   "language": "python",
   "name": "python3"
  },
  "language_info": {
   "codemirror_mode": {
    "name": "ipython",
    "version": 3
   },
   "file_extension": ".py",
   "mimetype": "text/x-python",
   "name": "python",
   "nbconvert_exporter": "python",
   "pygments_lexer": "ipython3",
   "version": "3.7.3"
  }
 },
 "nbformat": 4,
 "nbformat_minor": 4
}
